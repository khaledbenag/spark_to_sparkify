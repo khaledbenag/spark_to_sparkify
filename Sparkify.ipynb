{
 "cells": [
  {
   "cell_type": "markdown",
   "metadata": {},
   "source": [
    "# Sparkify Project Workspace\n",
    "This workspace contains a tiny subset (128MB) of the full dataset available (12GB). Feel free to use this workspace to build your project, or to explore a smaller subset with Spark before deploying your cluster on the cloud. Instructions for setting up your Spark cluster is included in the last lesson of the Extracurricular Spark Course content.\n",
    "\n",
    "You can follow the steps below to guide your data analysis and model building portion of this project."
   ]
  },
  {
   "cell_type": "code",
   "execution_count": 1,
   "metadata": {},
   "outputs": [],
   "source": [
    "# import libraries\n",
    "import seaborn as sns\n",
    "import matplotlib.pyplot as plt\n",
    "from pyspark.sql import SparkSession, Window\n",
    "import pyspark.sql.functions as F\n",
    "from pyspark.sql.functions import isnan, to_date, col, from_unixtime,last, first, split, udf, when, avg, asc, desc, count, countDistinct\n",
    "from pyspark.sql.types import LongType, TimestampType, IntegerType, StringType"
   ]
  },
  {
   "cell_type": "code",
   "execution_count": 2,
   "metadata": {},
   "outputs": [],
   "source": [
    "# create a Spark session\n",
    "spark = SparkSession\\\n",
    "        .builder\\\n",
    "        .appName(\"sparkify\")\\\n",
    "        .getOrCreate()"
   ]
  },
  {
   "cell_type": "markdown",
   "metadata": {},
   "source": [
    "# Load and Clean Dataset\n",
    "In this workspace, the mini-dataset file is `mini_sparkify_event_data.json`. Load and clean the dataset, checking for invalid or missing data - for example, records without userids or sessionids. "
   ]
  },
  {
   "cell_type": "code",
   "execution_count": 3,
   "metadata": {},
   "outputs": [
    {
     "data": {
      "text/plain": [
       "DataFrame[summary: string, artist: string, auth: string, firstName: string, gender: string, itemInSession: string, lastName: string, length: string, level: string, location: string, method: string, page: string, registration: string, sessionId: string, song: string, status: string, ts: string, userAgent: string, userId: string]"
      ]
     },
     "execution_count": 3,
     "metadata": {},
     "output_type": "execute_result"
    }
   ],
   "source": [
    "path = \"mini_sparkify_event_data.json\"\n",
    "# load data\n",
    "data_log = spark.read.json(path)\n",
    "data_log.describe()"
   ]
  },
  {
   "cell_type": "code",
   "execution_count": 4,
   "metadata": {},
   "outputs": [
    {
     "name": "stdout",
     "output_type": "stream",
     "text": [
      "root\n",
      " |-- artist: string (nullable = true)\n",
      " |-- auth: string (nullable = true)\n",
      " |-- firstName: string (nullable = true)\n",
      " |-- gender: string (nullable = true)\n",
      " |-- itemInSession: long (nullable = true)\n",
      " |-- lastName: string (nullable = true)\n",
      " |-- length: double (nullable = true)\n",
      " |-- level: string (nullable = true)\n",
      " |-- location: string (nullable = true)\n",
      " |-- method: string (nullable = true)\n",
      " |-- page: string (nullable = true)\n",
      " |-- registration: long (nullable = true)\n",
      " |-- sessionId: long (nullable = true)\n",
      " |-- song: string (nullable = true)\n",
      " |-- status: long (nullable = true)\n",
      " |-- ts: long (nullable = true)\n",
      " |-- userAgent: string (nullable = true)\n",
      " |-- userId: string (nullable = true)\n",
      "\n"
     ]
    }
   ],
   "source": [
    "data_log.printSchema()"
   ]
  },
  {
   "cell_type": "markdown",
   "metadata": {},
   "source": [
    "Lets check how many missing values by each column:"
   ]
  },
  {
   "cell_type": "code",
   "execution_count": 5,
   "metadata": {},
   "outputs": [
    {
     "data": {
      "text/plain": [
       "{'artist': 58392,\n",
       " 'auth': 0,\n",
       " 'firstName': 8346,\n",
       " 'gender': 8346,\n",
       " 'itemInSession': 0,\n",
       " 'lastName': 8346,\n",
       " 'length': 58392,\n",
       " 'level': 0,\n",
       " 'location': 8346,\n",
       " 'method': 0,\n",
       " 'page': 0,\n",
       " 'registration': 8346,\n",
       " 'sessionId': 0,\n",
       " 'song': 58392,\n",
       " 'status': 0,\n",
       " 'ts': 0,\n",
       " 'userAgent': 8346,\n",
       " 'userId': 0}"
      ]
     },
     "execution_count": 5,
     "metadata": {},
     "output_type": "execute_result"
    }
   ],
   "source": [
    "Dict_Null = {col:data_log.filter(data_log[col].isNull()).count() for col in data_log.columns}\n",
    "Dict_Null"
   ]
  },
  {
   "cell_type": "markdown",
   "metadata": {},
   "source": [
    "The time is given in double for two columns th 'ts' and 'registration' columns. We need to convert hese columns to more appropriate type (Date)"
   ]
  },
  {
   "cell_type": "code",
   "execution_count": 6,
   "metadata": {},
   "outputs": [
    {
     "name": "stdout",
     "output_type": "stream",
     "text": [
      "+-------------------+-------------------+\n",
      "|               time|            regtime|\n",
      "+-------------------+-------------------+\n",
      "|2018-10-01 00:01:57|2018-09-28 22:22:42|\n",
      "|2018-10-01 00:03:00|2018-09-30 18:20:30|\n",
      "|2018-10-01 00:06:34|2018-09-28 22:22:42|\n",
      "|2018-10-01 00:06:56|2018-09-30 18:20:30|\n",
      "|2018-10-01 00:11:16|2018-09-28 22:22:42|\n",
      "+-------------------+-------------------+\n",
      "only showing top 5 rows\n",
      "\n"
     ]
    }
   ],
   "source": [
    "# transform the dates to an appropriate format\n",
    "data_log = data_log.withColumn('time', from_unixtime(col('ts').cast(LongType())/1000).cast(TimestampType()))\n",
    "data_log = data_log.withColumn('regtime', from_unixtime(col('registration').cast(LongType())/1000).cast(TimestampType()))\n",
    "data_log.select(\"time\",\"regtime\").show(5)\n"
   ]
  },
  {
   "cell_type": "markdown",
   "metadata": {},
   "source": [
    "The mini dataset is from 01-10-2018 to 03-12-2018, about two months of users information."
   ]
  },
  {
   "cell_type": "code",
   "execution_count": 7,
   "metadata": {},
   "outputs": [
    {
     "name": "stdout",
     "output_type": "stream",
     "text": [
      "the dataset timeline is from 2018-10-01 to 2018-12-03\n"
     ]
    }
   ],
   "source": [
    "# the dataset timeline\n",
    "start_time = data_log.agg({\"time\":\"min\"}).collect()[0][0]\n",
    "end_time = data_log.agg({\"time\":\"max\"}).collect()[0][0]\n",
    "print(\"the dataset timeline is from {} to {}\".format(start_time.date(), end_time.date()))"
   ]
  },
  {
   "cell_type": "markdown",
   "metadata": {},
   "source": [
    "Print the type of each column in the dataset"
   ]
  },
  {
   "cell_type": "code",
   "execution_count": 8,
   "metadata": {},
   "outputs": [
    {
     "data": {
      "text/plain": [
       "[('artist', 'string'),\n",
       " ('auth', 'string'),\n",
       " ('firstName', 'string'),\n",
       " ('gender', 'string'),\n",
       " ('itemInSession', 'bigint'),\n",
       " ('lastName', 'string'),\n",
       " ('length', 'double'),\n",
       " ('level', 'string'),\n",
       " ('location', 'string'),\n",
       " ('method', 'string'),\n",
       " ('page', 'string'),\n",
       " ('registration', 'bigint'),\n",
       " ('sessionId', 'bigint'),\n",
       " ('song', 'string'),\n",
       " ('status', 'bigint'),\n",
       " ('ts', 'bigint'),\n",
       " ('userAgent', 'string'),\n",
       " ('userId', 'string'),\n",
       " ('time', 'timestamp'),\n",
       " ('regtime', 'timestamp')]"
      ]
     },
     "execution_count": 8,
     "metadata": {},
     "output_type": "execute_result"
    }
   ],
   "source": [
    "data_log.dtypes"
   ]
  },
  {
   "cell_type": "markdown",
   "metadata": {},
   "source": [
    "The userId is given as a string, we need to cast the type to a double. We will do that later."
   ]
  },
  {
   "cell_type": "markdown",
   "metadata": {},
   "source": [
    "### 1 User information\n",
    "Lets check information related to the user"
   ]
  },
  {
   "cell_type": "code",
   "execution_count": 9,
   "metadata": {},
   "outputs": [
    {
     "name": "stdout",
     "output_type": "stream",
     "text": [
      "+------+---------+--------+------+--------------------+--------------------+-----+-------------------+\n",
      "|userId|firstName|lastName|gender|            location|           userAgent|level|            regtime|\n",
      "+------+---------+--------+------+--------------------+--------------------+-----+-------------------+\n",
      "|    30|    Colin| Freeman|     M|     Bakersfield, CA|Mozilla/5.0 (Wind...| paid|2018-09-28 22:22:42|\n",
      "|     9|    Micah|    Long|     M|Boston-Cambridge-...|\"Mozilla/5.0 (Win...| free|2018-09-30 18:20:30|\n",
      "|    30|    Colin| Freeman|     M|     Bakersfield, CA|Mozilla/5.0 (Wind...| paid|2018-09-28 22:22:42|\n",
      "|     9|    Micah|    Long|     M|Boston-Cambridge-...|\"Mozilla/5.0 (Win...| free|2018-09-30 18:20:30|\n",
      "|    30|    Colin| Freeman|     M|     Bakersfield, CA|Mozilla/5.0 (Wind...| paid|2018-09-28 22:22:42|\n",
      "+------+---------+--------+------+--------------------+--------------------+-----+-------------------+\n",
      "only showing top 5 rows\n",
      "\n"
     ]
    }
   ],
   "source": [
    "data_log.select(['userId', 'firstName', 'lastName', 'gender', 'location', 'userAgent', 'level','regtime']).show(5)"
   ]
  },
  {
   "cell_type": "markdown",
   "metadata": {},
   "source": [
    "How many unique users"
   ]
  },
  {
   "cell_type": "code",
   "execution_count": 10,
   "metadata": {},
   "outputs": [
    {
     "name": "stdout",
     "output_type": "stream",
     "text": [
      "Number of users in the dataset: 226 users\n"
     ]
    }
   ],
   "source": [
    "nusers = data_log.select(\"userId\").distinct().count()\n",
    "print(\"Number of users in the dataset: {} users\".format(nusers))"
   ]
  },
  {
   "cell_type": "markdown",
   "metadata": {},
   "source": [
    "check if there are some empty string values ids"
   ]
  },
  {
   "cell_type": "code",
   "execution_count": 11,
   "metadata": {},
   "outputs": [
    {
     "data": {
      "text/plain": [
       "8346"
      ]
     },
     "execution_count": 11,
     "metadata": {},
     "output_type": "execute_result"
    }
   ],
   "source": [
    "# Rows with empty strings in the 'userId' column.\n",
    "data_log.where(data_log.userId == \"\").count()"
   ]
  },
  {
   "cell_type": "markdown",
   "metadata": {},
   "source": [
    "Let check the auth state of empty string users"
   ]
  },
  {
   "cell_type": "code",
   "execution_count": 12,
   "metadata": {},
   "outputs": [
    {
     "data": {
      "text/html": [
       "<div>\n",
       "<style scoped>\n",
       "    .dataframe tbody tr th:only-of-type {\n",
       "        vertical-align: middle;\n",
       "    }\n",
       "\n",
       "    .dataframe tbody tr th {\n",
       "        vertical-align: top;\n",
       "    }\n",
       "\n",
       "    .dataframe thead th {\n",
       "        text-align: right;\n",
       "    }\n",
       "</style>\n",
       "<table border=\"1\" class=\"dataframe\">\n",
       "  <thead>\n",
       "    <tr style=\"text-align: right;\">\n",
       "      <th></th>\n",
       "      <th>auth</th>\n",
       "      <th>count</th>\n",
       "    </tr>\n",
       "  </thead>\n",
       "  <tbody>\n",
       "    <tr>\n",
       "      <th>0</th>\n",
       "      <td>Logged Out</td>\n",
       "      <td>8249</td>\n",
       "    </tr>\n",
       "    <tr>\n",
       "      <th>1</th>\n",
       "      <td>Guest</td>\n",
       "      <td>97</td>\n",
       "    </tr>\n",
       "  </tbody>\n",
       "</table>\n",
       "</div>"
      ],
      "text/plain": [
       "         auth  count\n",
       "0  Logged Out   8249\n",
       "1       Guest     97"
      ]
     },
     "execution_count": 12,
     "metadata": {},
     "output_type": "execute_result"
    }
   ],
   "source": [
    "data_log.filter(data_log.userId ==\"\").groupBy(\"auth\").count().toPandas()"
   ]
  },
  {
   "cell_type": "markdown",
   "metadata": {},
   "source": [
    "It is clear that empty Ids are related to users logged out or user as guests. Information about these users are missing and we need to drop them."
   ]
  },
  {
   "cell_type": "markdown",
   "metadata": {},
   "source": [
    "lets check how many males and females in this dataset"
   ]
  },
  {
   "cell_type": "code",
   "execution_count": 13,
   "metadata": {},
   "outputs": [
    {
     "data": {
      "text/html": [
       "<div>\n",
       "<style scoped>\n",
       "    .dataframe tbody tr th:only-of-type {\n",
       "        vertical-align: middle;\n",
       "    }\n",
       "\n",
       "    .dataframe tbody tr th {\n",
       "        vertical-align: top;\n",
       "    }\n",
       "\n",
       "    .dataframe thead th {\n",
       "        text-align: right;\n",
       "    }\n",
       "</style>\n",
       "<table border=\"1\" class=\"dataframe\">\n",
       "  <thead>\n",
       "    <tr style=\"text-align: right;\">\n",
       "      <th></th>\n",
       "      <th>gender</th>\n",
       "      <th>count</th>\n",
       "    </tr>\n",
       "  </thead>\n",
       "  <tbody>\n",
       "    <tr>\n",
       "      <th>0</th>\n",
       "      <td>F</td>\n",
       "      <td>154578</td>\n",
       "    </tr>\n",
       "    <tr>\n",
       "      <th>1</th>\n",
       "      <td>None</td>\n",
       "      <td>8346</td>\n",
       "    </tr>\n",
       "    <tr>\n",
       "      <th>2</th>\n",
       "      <td>M</td>\n",
       "      <td>123576</td>\n",
       "    </tr>\n",
       "  </tbody>\n",
       "</table>\n",
       "</div>"
      ],
      "text/plain": [
       "  gender   count\n",
       "0      F  154578\n",
       "1   None    8346\n",
       "2      M  123576"
      ]
     },
     "execution_count": 13,
     "metadata": {},
     "output_type": "execute_result"
    }
   ],
   "source": [
    "data_log.groupBy(\"gender\").count().toPandas()"
   ]
  },
  {
   "cell_type": "markdown",
   "metadata": {},
   "source": [
    "None values number is the same as the empty string ids, which will be dropped later. In this subset females users of  are higher then males users."
   ]
  },
  {
   "cell_type": "markdown",
   "metadata": {},
   "source": [
    "How many paid and free accounts"
   ]
  },
  {
   "cell_type": "code",
   "execution_count": 14,
   "metadata": {},
   "outputs": [
    {
     "data": {
      "text/plain": [
       "<matplotlib.axes._subplots.AxesSubplot at 0x7f99336c25c0>"
      ]
     },
     "execution_count": 14,
     "metadata": {},
     "output_type": "execute_result"
    },
    {
     "data": {
      "image/png": "[encoded data removed]",
      "text/plain": [
       "<matplotlib.figure.Figure at 0x7f99336c2eb8>"
      ]
     },
     "metadata": {
      "needs_background": "light"
     },
     "output_type": "display_data"
    }
   ],
   "source": [
    "data_log.groupBy(\"level\").count().toPandas().plot(kind='bar', x = 'level')"
   ]
  },
  {
   "cell_type": "markdown",
   "metadata": {},
   "source": [
    "### Song information"
   ]
  },
  {
   "cell_type": "code",
   "execution_count": 15,
   "metadata": {},
   "outputs": [
    {
     "name": "stdout",
     "output_type": "stream",
     "text": [
      "+----------------+--------------------+---------+\n",
      "|          artist|                song|   length|\n",
      "+----------------+--------------------+---------+\n",
      "|  Martha Tilston|           Rockpools|277.89016|\n",
      "|Five Iron Frenzy|              Canada|236.09424|\n",
      "|    Adam Lambert|   Time For Miracles| 282.8273|\n",
      "|          Enigma|Knocking On Forbi...|262.71302|\n",
      "|       Daft Punk|Harder Better Fas...|223.60771|\n",
      "+----------------+--------------------+---------+\n",
      "only showing top 5 rows\n",
      "\n"
     ]
    }
   ],
   "source": [
    "data_log.select(['artist','song','length']).show(5)"
   ]
  },
  {
   "cell_type": "markdown",
   "metadata": {},
   "source": [
    "General songs information"
   ]
  },
  {
   "cell_type": "code",
   "execution_count": 16,
   "metadata": {},
   "outputs": [
    {
     "name": "stdout",
     "output_type": "stream",
     "text": [
      "number of unique songs 58481\n"
     ]
    }
   ],
   "source": [
    "# Number of songs\n",
    "num_songs = data_log.select('song').distinct().count()\n",
    "print(\"number of unique songs {}\".format(num_songs))"
   ]
  },
  {
   "cell_type": "code",
   "execution_count": 17,
   "metadata": {},
   "outputs": [
    {
     "name": "stdout",
     "output_type": "stream",
     "text": [
      "number of unique artists 17656\n"
     ]
    }
   ],
   "source": [
    "# Number of artists\n",
    "num_artists= data_log.select('artist').distinct().count()\n",
    "print(\"number of unique artists {}\".format(num_artists))"
   ]
  },
  {
   "cell_type": "markdown",
   "metadata": {},
   "source": [
    "Show the most played songs"
   ]
  },
  {
   "cell_type": "code",
   "execution_count": 18,
   "metadata": {},
   "outputs": [
    {
     "name": "stdout",
     "output_type": "stream",
     "text": [
      "+--------------+-------------+-----+\n",
      "|          song|       artist|count|\n",
      "+--------------+-------------+-----+\n",
      "|          null|         null|58392|\n",
      "|You're The One|Dwight Yoakam| 1122|\n",
      "|          Undo|     BjÃÂ¶rk| 1026|\n",
      "|       Revelry|Kings Of Leon|  854|\n",
      "| Sehr kosmisch|     Harmonia|  728|\n",
      "+--------------+-------------+-----+\n",
      "only showing top 5 rows\n",
      "\n"
     ]
    }
   ],
   "source": [
    "data_log.groupby('song', 'artist').count().orderBy(\"count\", ascending=False).show(5)"
   ]
  },
  {
   "cell_type": "markdown",
   "metadata": {},
   "source": [
    "We have 58392 missing values in song title information, and the most played song is You're The One of Dwight Yoakam.\n",
    "\n",
    "Now lets check the most played artists"
   ]
  },
  {
   "cell_type": "code",
   "execution_count": 19,
   "metadata": {},
   "outputs": [
    {
     "name": "stdout",
     "output_type": "stream",
     "text": [
      "+--------------------+-----+\n",
      "|              artist|count|\n",
      "+--------------------+-----+\n",
      "|                null|58392|\n",
      "|       Kings Of Leon| 1841|\n",
      "|            Coldplay| 1813|\n",
      "|Florence + The Ma...| 1236|\n",
      "|       Dwight Yoakam| 1135|\n",
      "+--------------------+-----+\n",
      "only showing top 5 rows\n",
      "\n"
     ]
    }
   ],
   "source": [
    "data_log.groupby('artist').count().orderBy(\"count\", ascending=False).show(5)"
   ]
  },
  {
   "cell_type": "markdown",
   "metadata": {},
   "source": [
    "### Actions information\n",
    "This part is the most important which shows how users logs and interact with Sparkify services"
   ]
  },
  {
   "cell_type": "code",
   "execution_count": 20,
   "metadata": {},
   "outputs": [
    {
     "name": "stdout",
     "output_type": "stream",
     "text": [
      "+-------------------+---------+-------------+--------+---------+------+------+\n",
      "|               time|sessionId|itemInSession|    page|     auth|method|status|\n",
      "+-------------------+---------+-------------+--------+---------+------+------+\n",
      "|2018-10-01 00:01:57|       29|           50|NextSong|Logged In|   PUT|   200|\n",
      "|2018-10-01 00:03:00|        8|           79|NextSong|Logged In|   PUT|   200|\n",
      "|2018-10-01 00:06:34|       29|           51|NextSong|Logged In|   PUT|   200|\n",
      "|2018-10-01 00:06:56|        8|           80|NextSong|Logged In|   PUT|   200|\n",
      "|2018-10-01 00:11:16|       29|           52|NextSong|Logged In|   PUT|   200|\n",
      "+-------------------+---------+-------------+--------+---------+------+------+\n",
      "only showing top 5 rows\n",
      "\n"
     ]
    }
   ],
   "source": [
    "#  logs information\n",
    "data_log.select(['time','sessionId', 'itemInSession', 'page', 'auth',  'method', 'status']).show(5)"
   ]
  },
  {
   "cell_type": "code",
   "execution_count": 21,
   "metadata": {},
   "outputs": [
    {
     "name": "stdout",
     "output_type": "stream",
     "text": [
      "number of unique sessions 2354\n"
     ]
    }
   ],
   "source": [
    "# how many sessions\n",
    "nu_sessions = data_log.select(\"sessionId\").distinct().count()\n",
    "print(\"number of unique sessions {}\".format(nu_sessions))"
   ]
  },
  {
   "cell_type": "code",
   "execution_count": 22,
   "metadata": {},
   "outputs": [
    {
     "data": {
      "text/plain": [
       "1322"
      ]
     },
     "execution_count": 22,
     "metadata": {},
     "output_type": "execute_result"
    }
   ],
   "source": [
    "# how many itemInSession\n",
    "data_log.select(\"itemInSession\").distinct().count()"
   ]
  },
  {
   "cell_type": "markdown",
   "metadata": {},
   "source": [
    "\"page\" information are useful, we can notice \"Cancellation Confirmation\" which gives information about the label. Other information such as Submit Downgrade and Downgrade need more exploration."
   ]
  },
  {
   "cell_type": "code",
   "execution_count": 23,
   "metadata": {},
   "outputs": [
    {
     "data": {
      "text/html": [
       "<div>\n",
       "<style scoped>\n",
       "    .dataframe tbody tr th:only-of-type {\n",
       "        vertical-align: middle;\n",
       "    }\n",
       "\n",
       "    .dataframe tbody tr th {\n",
       "        vertical-align: top;\n",
       "    }\n",
       "\n",
       "    .dataframe thead th {\n",
       "        text-align: right;\n",
       "    }\n",
       "</style>\n",
       "<table border=\"1\" class=\"dataframe\">\n",
       "  <thead>\n",
       "    <tr style=\"text-align: right;\">\n",
       "      <th></th>\n",
       "      <th>page</th>\n",
       "    </tr>\n",
       "  </thead>\n",
       "  <tbody>\n",
       "    <tr>\n",
       "      <th>0</th>\n",
       "      <td>Cancel</td>\n",
       "    </tr>\n",
       "    <tr>\n",
       "      <th>1</th>\n",
       "      <td>Submit Downgrade</td>\n",
       "    </tr>\n",
       "    <tr>\n",
       "      <th>2</th>\n",
       "      <td>Thumbs Down</td>\n",
       "    </tr>\n",
       "    <tr>\n",
       "      <th>3</th>\n",
       "      <td>Home</td>\n",
       "    </tr>\n",
       "    <tr>\n",
       "      <th>4</th>\n",
       "      <td>Downgrade</td>\n",
       "    </tr>\n",
       "    <tr>\n",
       "      <th>5</th>\n",
       "      <td>Roll Advert</td>\n",
       "    </tr>\n",
       "    <tr>\n",
       "      <th>6</th>\n",
       "      <td>Logout</td>\n",
       "    </tr>\n",
       "    <tr>\n",
       "      <th>7</th>\n",
       "      <td>Save Settings</td>\n",
       "    </tr>\n",
       "    <tr>\n",
       "      <th>8</th>\n",
       "      <td>Cancellation Confirmation</td>\n",
       "    </tr>\n",
       "    <tr>\n",
       "      <th>9</th>\n",
       "      <td>About</td>\n",
       "    </tr>\n",
       "    <tr>\n",
       "      <th>10</th>\n",
       "      <td>Submit Registration</td>\n",
       "    </tr>\n",
       "    <tr>\n",
       "      <th>11</th>\n",
       "      <td>Settings</td>\n",
       "    </tr>\n",
       "    <tr>\n",
       "      <th>12</th>\n",
       "      <td>Login</td>\n",
       "    </tr>\n",
       "    <tr>\n",
       "      <th>13</th>\n",
       "      <td>Register</td>\n",
       "    </tr>\n",
       "    <tr>\n",
       "      <th>14</th>\n",
       "      <td>Add to Playlist</td>\n",
       "    </tr>\n",
       "    <tr>\n",
       "      <th>15</th>\n",
       "      <td>Add Friend</td>\n",
       "    </tr>\n",
       "    <tr>\n",
       "      <th>16</th>\n",
       "      <td>NextSong</td>\n",
       "    </tr>\n",
       "    <tr>\n",
       "      <th>17</th>\n",
       "      <td>Thumbs Up</td>\n",
       "    </tr>\n",
       "    <tr>\n",
       "      <th>18</th>\n",
       "      <td>Help</td>\n",
       "    </tr>\n",
       "    <tr>\n",
       "      <th>19</th>\n",
       "      <td>Upgrade</td>\n",
       "    </tr>\n",
       "    <tr>\n",
       "      <th>20</th>\n",
       "      <td>Error</td>\n",
       "    </tr>\n",
       "    <tr>\n",
       "      <th>21</th>\n",
       "      <td>Submit Upgrade</td>\n",
       "    </tr>\n",
       "  </tbody>\n",
       "</table>\n",
       "</div>"
      ],
      "text/plain": [
       "                         page\n",
       "0                      Cancel\n",
       "1            Submit Downgrade\n",
       "2                 Thumbs Down\n",
       "3                        Home\n",
       "4                   Downgrade\n",
       "5                 Roll Advert\n",
       "6                      Logout\n",
       "7               Save Settings\n",
       "8   Cancellation Confirmation\n",
       "9                       About\n",
       "10        Submit Registration\n",
       "11                   Settings\n",
       "12                      Login\n",
       "13                   Register\n",
       "14            Add to Playlist\n",
       "15                 Add Friend\n",
       "16                   NextSong\n",
       "17                  Thumbs Up\n",
       "18                       Help\n",
       "19                    Upgrade\n",
       "20                      Error\n",
       "21             Submit Upgrade"
      ]
     },
     "execution_count": 23,
     "metadata": {},
     "output_type": "execute_result"
    }
   ],
   "source": [
    "# show page unique values\n",
    "data_log.select(\"page\").distinct().toPandas()"
   ]
  },
  {
   "cell_type": "code",
   "execution_count": 24,
   "metadata": {},
   "outputs": [
    {
     "data": {
      "text/plain": [
       "<matplotlib.axes._subplots.AxesSubplot at 0x7f99336c6198>"
      ]
     },
     "execution_count": 24,
     "metadata": {},
     "output_type": "execute_result"
    },
    {
     "data": {
      "image/png": "[encoded data removed]",
      "text/plain": [
       "<matplotlib.figure.Figure at 0x7f99315f60b8>"
      ]
     },
     "metadata": {
      "needs_background": "light"
     },
     "output_type": "display_data"
    }
   ],
   "source": [
    "data_log.groupBy(\"page\").count().toPandas().plot(kind= \"bar\", x=\"page\",color = \"navy\", figsize=(12,7))"
   ]
  },
  {
   "cell_type": "markdown",
   "metadata": {},
   "source": [
    "NextSong is the most visited page."
   ]
  },
  {
   "cell_type": "markdown",
   "metadata": {},
   "source": [
    "Moreover, we will check how many authentification states in our service. "
   ]
  },
  {
   "cell_type": "code",
   "execution_count": 25,
   "metadata": {},
   "outputs": [
    {
     "data": {
      "text/html": [
       "<div>\n",
       "<style scoped>\n",
       "    .dataframe tbody tr th:only-of-type {\n",
       "        vertical-align: middle;\n",
       "    }\n",
       "\n",
       "    .dataframe tbody tr th {\n",
       "        vertical-align: top;\n",
       "    }\n",
       "\n",
       "    .dataframe thead th {\n",
       "        text-align: right;\n",
       "    }\n",
       "</style>\n",
       "<table border=\"1\" class=\"dataframe\">\n",
       "  <thead>\n",
       "    <tr style=\"text-align: right;\">\n",
       "      <th></th>\n",
       "      <th>auth</th>\n",
       "    </tr>\n",
       "  </thead>\n",
       "  <tbody>\n",
       "    <tr>\n",
       "      <th>0</th>\n",
       "      <td>Logged Out</td>\n",
       "    </tr>\n",
       "    <tr>\n",
       "      <th>1</th>\n",
       "      <td>Cancelled</td>\n",
       "    </tr>\n",
       "    <tr>\n",
       "      <th>2</th>\n",
       "      <td>Guest</td>\n",
       "    </tr>\n",
       "    <tr>\n",
       "      <th>3</th>\n",
       "      <td>Logged In</td>\n",
       "    </tr>\n",
       "  </tbody>\n",
       "</table>\n",
       "</div>"
      ],
      "text/plain": [
       "         auth\n",
       "0  Logged Out\n",
       "1   Cancelled\n",
       "2       Guest\n",
       "3   Logged In"
      ]
     },
     "execution_count": 25,
     "metadata": {},
     "output_type": "execute_result"
    }
   ],
   "source": [
    "# show page unique values\n",
    "data_log.select(\"auth\").distinct().toPandas()"
   ]
  },
  {
   "cell_type": "markdown",
   "metadata": {},
   "source": [
    "We can notice that we have four different states. However, Logged Out and Guest will not be used and only Cancelled and Logged In will be explored."
   ]
  },
  {
   "cell_type": "code",
   "execution_count": 26,
   "metadata": {},
   "outputs": [
    {
     "data": {
      "text/html": [
       "<div>\n",
       "<style scoped>\n",
       "    .dataframe tbody tr th:only-of-type {\n",
       "        vertical-align: middle;\n",
       "    }\n",
       "\n",
       "    .dataframe tbody tr th {\n",
       "        vertical-align: top;\n",
       "    }\n",
       "\n",
       "    .dataframe thead th {\n",
       "        text-align: right;\n",
       "    }\n",
       "</style>\n",
       "<table border=\"1\" class=\"dataframe\">\n",
       "  <thead>\n",
       "    <tr style=\"text-align: right;\">\n",
       "      <th></th>\n",
       "      <th>method</th>\n",
       "    </tr>\n",
       "  </thead>\n",
       "  <tbody>\n",
       "    <tr>\n",
       "      <th>0</th>\n",
       "      <td>PUT</td>\n",
       "    </tr>\n",
       "    <tr>\n",
       "      <th>1</th>\n",
       "      <td>GET</td>\n",
       "    </tr>\n",
       "  </tbody>\n",
       "</table>\n",
       "</div>"
      ],
      "text/plain": [
       "  method\n",
       "0    PUT\n",
       "1    GET"
      ]
     },
     "execution_count": 26,
     "metadata": {},
     "output_type": "execute_result"
    }
   ],
   "source": [
    "# show page unique values of method\n",
    "data_log.select(\"method\").distinct().toPandas()"
   ]
  },
  {
   "cell_type": "code",
   "execution_count": 27,
   "metadata": {},
   "outputs": [
    {
     "data": {
      "text/html": [
       "<div>\n",
       "<style scoped>\n",
       "    .dataframe tbody tr th:only-of-type {\n",
       "        vertical-align: middle;\n",
       "    }\n",
       "\n",
       "    .dataframe tbody tr th {\n",
       "        vertical-align: top;\n",
       "    }\n",
       "\n",
       "    .dataframe thead th {\n",
       "        text-align: right;\n",
       "    }\n",
       "</style>\n",
       "<table border=\"1\" class=\"dataframe\">\n",
       "  <thead>\n",
       "    <tr style=\"text-align: right;\">\n",
       "      <th></th>\n",
       "      <th>status</th>\n",
       "    </tr>\n",
       "  </thead>\n",
       "  <tbody>\n",
       "    <tr>\n",
       "      <th>0</th>\n",
       "      <td>307</td>\n",
       "    </tr>\n",
       "    <tr>\n",
       "      <th>1</th>\n",
       "      <td>404</td>\n",
       "    </tr>\n",
       "    <tr>\n",
       "      <th>2</th>\n",
       "      <td>200</td>\n",
       "    </tr>\n",
       "  </tbody>\n",
       "</table>\n",
       "</div>"
      ],
      "text/plain": [
       "   status\n",
       "0     307\n",
       "1     404\n",
       "2     200"
      ]
     },
     "execution_count": 27,
     "metadata": {},
     "output_type": "execute_result"
    }
   ],
   "source": [
    "# show page unique values of status\n",
    "data_log.select(\"status\").distinct().toPandas()"
   ]
  },
  {
   "cell_type": "markdown",
   "metadata": {},
   "source": [
    "Three status values to explain the action feedback 307 redirected, 404 error in page loading, and 200 for a valid action  "
   ]
  },
  {
   "cell_type": "code",
   "execution_count": 28,
   "metadata": {},
   "outputs": [
    {
     "name": "stdout",
     "output_type": "stream",
     "text": [
      "+--------------------+\n",
      "|            location|\n",
      "+--------------------+\n",
      "|     Gainesville, FL|\n",
      "|Atlantic City-Ham...|\n",
      "+--------------------+\n",
      "only showing top 2 rows\n",
      "\n"
     ]
    }
   ],
   "source": [
    "data_log.select(\"location\").distinct().show(2)"
   ]
  },
  {
   "cell_type": "markdown",
   "metadata": {},
   "source": [
    "The location name is too long, we need to just select the state"
   ]
  },
  {
   "cell_type": "code",
   "execution_count": 29,
   "metadata": {},
   "outputs": [
    {
     "name": "stdout",
     "output_type": "stream",
     "text": [
      "+------------+\n",
      "|       state|\n",
      "+------------+\n",
      "|       NE-IA|\n",
      "|       PA-NJ|\n",
      "|          WA|\n",
      "| DC-VA-MD-WV|\n",
      "|          AL|\n",
      "+------------+\n",
      "only showing top 5 rows\n",
      "\n"
     ]
    }
   ],
   "source": [
    "data_log = data_log.withColumn(\"state\", split(col('location'), ',').getItem(1))\n",
    "data_log.select(\"state\").distinct().show(5)"
   ]
  },
  {
   "cell_type": "markdown",
   "metadata": {},
   "source": [
    "# Exploratory Data Analysis\n",
    "When you're working with the full dataset, perform EDA by loading a small subset of the data and doing basic manipulations within Spark. In this workspace, you are already provided a small subset of data you can explore.\n",
    "\n",
    "### Define Churn\n",
    "\n",
    "Once you've done some preliminary analysis, create a column `Churn` to use as the label for your model. I suggest using the `Cancellation Confirmation` events to define your churn, which happen for both paid and free users. As a bonus task, you can also look into the `Downgrade` events.\n",
    "\n",
    "### Explore Data\n",
    "Once you've defined churn, perform some exploratory data analysis to observe the behavior for users who stayed vs users who churned. You can start by exploring aggregates on these two groups of users, observing how much of a specific action they experienced per a certain time unit or number of songs played."
   ]
  },
  {
   "cell_type": "markdown",
   "metadata": {},
   "source": [
    "### Drop missing values\n",
    "drop missing values of userID if exists\n",
    "\n",
    "in this subset there are no missing values f userID but we still chekc for the larger dataset. In addition, we will drop also other empty string Ids "
   ]
  },
  {
   "cell_type": "code",
   "execution_count": 30,
   "metadata": {},
   "outputs": [
    {
     "name": "stdout",
     "output_type": "stream",
     "text": [
      "we have 0 of nan values in userId\n"
     ]
    }
   ],
   "source": [
    "# check for nan values\n",
    "nan_values = data_log.filter(data_log[\"userId\"].isNull()).count()\n",
    "print(\"we have {} of nan values in userId\".format(nan_values))"
   ]
  },
  {
   "cell_type": "code",
   "execution_count": 31,
   "metadata": {},
   "outputs": [
    {
     "name": "stdout",
     "output_type": "stream",
     "text": [
      "we have 8346 of empty string values in userId\n"
     ]
    }
   ],
   "source": [
    "# Rows with empty strings in the 'userId' column.\n",
    "empty_values = data_log.where(data_log.userId == \"\").count()\n",
    "print(\"we have {} of empty string values in userId\".format(empty_values))"
   ]
  },
  {
   "cell_type": "markdown",
   "metadata": {},
   "source": [
    "Now we need to drop bothe empty and nan values"
   ]
  },
  {
   "cell_type": "code",
   "execution_count": 32,
   "metadata": {},
   "outputs": [
    {
     "data": {
      "text/plain": [
       "278154"
      ]
     },
     "execution_count": 32,
     "metadata": {},
     "output_type": "execute_result"
    }
   ],
   "source": [
    "data_log = data_log.dropna(how='any', thresh=None, subset=\"userId\")\n",
    "data_log = data_log.where(data_log.userId != \"\")\n",
    "data_log.count()"
   ]
  },
  {
   "cell_type": "code",
   "execution_count": 33,
   "metadata": {},
   "outputs": [
    {
     "data": {
      "text/plain": [
       "[('userId', 'bigint')]"
      ]
     },
     "execution_count": 33,
     "metadata": {},
     "output_type": "execute_result"
    }
   ],
   "source": [
    "# cast userId from string to double\n",
    "data_log = data_log.withColumn(\"userId\", col(\"userId\").cast(LongType()))\n",
    "data_log.select(\"userId\").dtypes\n"
   ]
  },
  {
   "cell_type": "code",
   "execution_count": 34,
   "metadata": {},
   "outputs": [
    {
     "data": {
      "text/plain": [
       "<matplotlib.axes._subplots.AxesSubplot at 0x7f9931536978>"
      ]
     },
     "execution_count": 34,
     "metadata": {},
     "output_type": "execute_result"
    },
    {
     "data": {
      "image/png": "[encoded data removed]",
      "text/plain": [
       "<matplotlib.figure.Figure at 0x7f993373e860>"
      ]
     },
     "metadata": {
      "needs_background": "light"
     },
     "output_type": "display_data"
    }
   ],
   "source": [
    "data_log.groupBy(\"state\").count().toPandas().sort_values(by='count', ascending = False).plot(x=\"state\", kind=\"bar\", figsize=(12,7))"
   ]
  },
  {
   "cell_type": "markdown",
   "metadata": {},
   "source": [
    "From the graph, California, New york, and Texas cities are the most cities using Sparkify. "
   ]
  },
  {
   "cell_type": "markdown",
   "metadata": {},
   "source": [
    "### Define the target (Churn)\n",
    "\n",
    "The churn can be defined using the Cancellation Confirmaion page."
   ]
  },
  {
   "cell_type": "code",
   "execution_count": 35,
   "metadata": {},
   "outputs": [
    {
     "name": "stdout",
     "output_type": "stream",
     "text": [
      "+-------+------+\n",
      "|churned| count|\n",
      "+-------+------+\n",
      "|      1|    52|\n",
      "|      0|278102|\n",
      "+-------+------+\n",
      "\n"
     ]
    }
   ],
   "source": [
    "# define churn column\n",
    "func = udf(lambda x: 1 if x == \"Cancellation Confirmation\" else 0, IntegerType())\n",
    "data_log = data_log.withColumn(\"churned\", func(\"page\"))\n",
    "data_log.select(\"churned\").groupBy(\"churned\").count().show()"
   ]
  },
  {
   "cell_type": "code",
   "execution_count": 36,
   "metadata": {},
   "outputs": [
    {
     "name": "stdout",
     "output_type": "stream",
     "text": [
      "churned: 23.11%\n"
     ]
    }
   ],
   "source": [
    "# percentage of churned\n",
    "churned_rate = data_log.groupby(\"userId\").agg({\"churned\": \"sum\"}).select(avg(\"sum(churned)\")).collect()[0][\"avg(sum(churned))\"]\n",
    "print(\"churned: {:.2f}%\".format(churned_rate * 100))"
   ]
  },
  {
   "cell_type": "code",
   "execution_count": 37,
   "metadata": {},
   "outputs": [
    {
     "name": "stdout",
     "output_type": "stream",
     "text": [
      "+------+-------+---------+\n",
      "|userId|churned|userChurn|\n",
      "+------+-------+---------+\n",
      "|    26|      0|        0|\n",
      "|    26|      0|        0|\n",
      "|    26|      0|        0|\n",
      "|    26|      0|        0|\n",
      "|    26|      0|        0|\n",
      "+------+-------+---------+\n",
      "only showing top 5 rows\n",
      "\n"
     ]
    }
   ],
   "source": [
    "from pyspark.sql.functions import max as Fmax\n",
    "\n",
    "data_log = data_log.withColumn(\"userChurn\", Fmax('churned').over(Window.partitionBy(\"userId\")))\n",
    "data_log.select(\"userId\", \"churned\", \"userChurn\").show(5)"
   ]
  },
  {
   "cell_type": "code",
   "execution_count": 38,
   "metadata": {},
   "outputs": [
    {
     "data": {
      "text/html": [
       "<div>\n",
       "<style scoped>\n",
       "    .dataframe tbody tr th:only-of-type {\n",
       "        vertical-align: middle;\n",
       "    }\n",
       "\n",
       "    .dataframe tbody tr th {\n",
       "        vertical-align: top;\n",
       "    }\n",
       "\n",
       "    .dataframe thead th {\n",
       "        text-align: right;\n",
       "    }\n",
       "</style>\n",
       "<table border=\"1\" class=\"dataframe\">\n",
       "  <thead>\n",
       "    <tr style=\"text-align: right;\">\n",
       "      <th></th>\n",
       "      <th>userChurn</th>\n",
       "      <th>count</th>\n",
       "    </tr>\n",
       "  </thead>\n",
       "  <tbody>\n",
       "    <tr>\n",
       "      <th>0</th>\n",
       "      <td>1</td>\n",
       "      <td>44864</td>\n",
       "    </tr>\n",
       "    <tr>\n",
       "      <th>1</th>\n",
       "      <td>0</td>\n",
       "      <td>233290</td>\n",
       "    </tr>\n",
       "  </tbody>\n",
       "</table>\n",
       "</div>"
      ],
      "text/plain": [
       "   userChurn   count\n",
       "0          1   44864\n",
       "1          0  233290"
      ]
     },
     "execution_count": 38,
     "metadata": {},
     "output_type": "execute_result"
    }
   ],
   "source": [
    "data_log.groupBy(\"userChurn\").count().toPandas()"
   ]
  },
  {
   "cell_type": "markdown",
   "metadata": {},
   "source": [
    "### User relation to the target"
   ]
  },
  {
   "cell_type": "code",
   "execution_count": 39,
   "metadata": {},
   "outputs": [
    {
     "name": "stdout",
     "output_type": "stream",
     "text": [
      "+------+---------+--------+------+-----------------+--------------------+-----+-------------------+---------+\n",
      "|userId|firstName|lastName|gender|         location|           userAgent|level|            regtime|userChurn|\n",
      "+------+---------+--------+------+-----------------+--------------------+-----+-------------------+---------+\n",
      "|    26|    Logan|  Harper|     M|Stockton-Lodi, CA|Mozilla/5.0 (Wind...| free|2018-09-13 05:29:50|        0|\n",
      "|    26|    Logan|  Harper|     M|Stockton-Lodi, CA|Mozilla/5.0 (Wind...| free|2018-09-13 05:29:50|        0|\n",
      "|    26|    Logan|  Harper|     M|Stockton-Lodi, CA|Mozilla/5.0 (Wind...| free|2018-09-13 05:29:50|        0|\n",
      "|    26|    Logan|  Harper|     M|Stockton-Lodi, CA|Mozilla/5.0 (Wind...| free|2018-09-13 05:29:50|        0|\n",
      "|    26|    Logan|  Harper|     M|Stockton-Lodi, CA|Mozilla/5.0 (Wind...| free|2018-09-13 05:29:50|        0|\n",
      "+------+---------+--------+------+-----------------+--------------------+-----+-------------------+---------+\n",
      "only showing top 5 rows\n",
      "\n"
     ]
    }
   ],
   "source": [
    "data_log.select(['userId', 'firstName', 'lastName', 'gender', 'location', 'userAgent', 'level','regtime','userChurn']).show(5)"
   ]
  },
  {
   "cell_type": "markdown",
   "metadata": {},
   "source": [
    "Impact of been male or female on the churn"
   ]
  },
  {
   "cell_type": "code",
   "execution_count": 40,
   "metadata": {},
   "outputs": [
    {
     "data": {
      "text/html": [
       "<div>\n",
       "<style scoped>\n",
       "    .dataframe tbody tr th:only-of-type {\n",
       "        vertical-align: middle;\n",
       "    }\n",
       "\n",
       "    .dataframe tbody tr th {\n",
       "        vertical-align: top;\n",
       "    }\n",
       "\n",
       "    .dataframe thead th {\n",
       "        text-align: right;\n",
       "    }\n",
       "</style>\n",
       "<table border=\"1\" class=\"dataframe\">\n",
       "  <thead>\n",
       "    <tr style=\"text-align: right;\">\n",
       "      <th></th>\n",
       "      <th>userChurn</th>\n",
       "      <th>gender</th>\n",
       "      <th>count</th>\n",
       "    </tr>\n",
       "  </thead>\n",
       "  <tbody>\n",
       "    <tr>\n",
       "      <th>0</th>\n",
       "      <td>0</td>\n",
       "      <td>M</td>\n",
       "      <td>89</td>\n",
       "    </tr>\n",
       "    <tr>\n",
       "      <th>1</th>\n",
       "      <td>0</td>\n",
       "      <td>F</td>\n",
       "      <td>84</td>\n",
       "    </tr>\n",
       "    <tr>\n",
       "      <th>2</th>\n",
       "      <td>1</td>\n",
       "      <td>F</td>\n",
       "      <td>20</td>\n",
       "    </tr>\n",
       "    <tr>\n",
       "      <th>3</th>\n",
       "      <td>1</td>\n",
       "      <td>M</td>\n",
       "      <td>32</td>\n",
       "    </tr>\n",
       "  </tbody>\n",
       "</table>\n",
       "</div>"
      ],
      "text/plain": [
       "   userChurn gender  count\n",
       "0          0      M     89\n",
       "1          0      F     84\n",
       "2          1      F     20\n",
       "3          1      M     32"
      ]
     },
     "execution_count": 40,
     "metadata": {},
     "output_type": "execute_result"
    }
   ],
   "source": [
    "gender_cancel = data_log.drop_duplicates(['userId', 'gender']).groupby(['userChurn', 'gender']).count().sort(\"userChurn\").toPandas()\n",
    "gender_cancel"
   ]
  },
  {
   "cell_type": "code",
   "execution_count": 41,
   "metadata": {},
   "outputs": [
    {
     "data": {
      "text/plain": [
       "<matplotlib.axes._subplots.AxesSubplot at 0x7f99313a2080>"
      ]
     },
     "execution_count": 41,
     "metadata": {},
     "output_type": "execute_result"
    },
    {
     "data": {
      "image/png": "[encoded data removed]",
      "text/plain": [
       "<matplotlib.figure.Figure at 0x7f99313fa9b0>"
      ]
     },
     "metadata": {
      "needs_background": "light"
     },
     "output_type": "display_data"
    }
   ],
   "source": [
    "gender_cancel[gender_cancel.userChurn == 1].plot(x= \"gender\", y=\"count\", kind= \"bar\", color= \"navy\")"
   ]
  },
  {
   "cell_type": "markdown",
   "metadata": {},
   "source": [
    "Males tend to cancel more than females"
   ]
  },
  {
   "cell_type": "markdown",
   "metadata": {},
   "source": [
    "Who cancels more often, paid or free users?!"
   ]
  },
  {
   "cell_type": "code",
   "execution_count": 42,
   "metadata": {},
   "outputs": [
    {
     "data": {
      "text/html": [
       "<div>\n",
       "<style scoped>\n",
       "    .dataframe tbody tr th:only-of-type {\n",
       "        vertical-align: middle;\n",
       "    }\n",
       "\n",
       "    .dataframe tbody tr th {\n",
       "        vertical-align: top;\n",
       "    }\n",
       "\n",
       "    .dataframe thead th {\n",
       "        text-align: right;\n",
       "    }\n",
       "</style>\n",
       "<table border=\"1\" class=\"dataframe\">\n",
       "  <thead>\n",
       "    <tr style=\"text-align: right;\">\n",
       "      <th></th>\n",
       "      <th>userChurn</th>\n",
       "      <th>level</th>\n",
       "      <th>count</th>\n",
       "    </tr>\n",
       "  </thead>\n",
       "  <tbody>\n",
       "    <tr>\n",
       "      <th>0</th>\n",
       "      <td>0</td>\n",
       "      <td>free</td>\n",
       "      <td>149</td>\n",
       "    </tr>\n",
       "    <tr>\n",
       "      <th>1</th>\n",
       "      <td>0</td>\n",
       "      <td>paid</td>\n",
       "      <td>129</td>\n",
       "    </tr>\n",
       "    <tr>\n",
       "      <th>2</th>\n",
       "      <td>1</td>\n",
       "      <td>paid</td>\n",
       "      <td>36</td>\n",
       "    </tr>\n",
       "    <tr>\n",
       "      <th>3</th>\n",
       "      <td>1</td>\n",
       "      <td>free</td>\n",
       "      <td>46</td>\n",
       "    </tr>\n",
       "  </tbody>\n",
       "</table>\n",
       "</div>"
      ],
      "text/plain": [
       "   userChurn level  count\n",
       "0          0  free    149\n",
       "1          0  paid    129\n",
       "2          1  paid     36\n",
       "3          1  free     46"
      ]
     },
     "execution_count": 42,
     "metadata": {},
     "output_type": "execute_result"
    }
   ],
   "source": [
    "free_paid_cancels = data_log.drop_duplicates(['userId', 'level']).groupby(['userChurn', 'level']).count().sort(\"userChurn\").toPandas()\n",
    "free_paid_cancels"
   ]
  },
  {
   "cell_type": "code",
   "execution_count": 43,
   "metadata": {},
   "outputs": [
    {
     "data": {
      "text/plain": [
       "<matplotlib.axes._subplots.AxesSubplot at 0x7f99311201d0>"
      ]
     },
     "execution_count": 43,
     "metadata": {},
     "output_type": "execute_result"
    },
    {
     "data": {
      "image/png": "[encoded data removed]",
      "text/plain": [
       "<matplotlib.figure.Figure at 0x7f99311799b0>"
      ]
     },
     "metadata": {
      "needs_background": "light"
     },
     "output_type": "display_data"
    }
   ],
   "source": [
    "free_paid_cancels[free_paid_cancels.userChurn == 1].plot(x = \"level\", y=\"count\", kind = \"bar\", color= \"g\")"
   ]
  },
  {
   "cell_type": "markdown",
   "metadata": {},
   "source": [
    "Free users cancel more than paid users, maybe it is related to the trial period."
   ]
  },
  {
   "cell_type": "markdown",
   "metadata": {},
   "source": [
    "### Song relation to the target"
   ]
  },
  {
   "cell_type": "code",
   "execution_count": 44,
   "metadata": {},
   "outputs": [
    {
     "name": "stdout",
     "output_type": "stream",
     "text": [
      "+-----------------+--------------------+---------+---------+\n",
      "|           artist|                song|   length|userChurn|\n",
      "+-----------------+--------------------+---------+---------+\n",
      "|             null|                null|     null|        0|\n",
      "|        Aerosmith|       Walk This Way|220.39465|        0|\n",
      "|    Guns N' Roses|      Garden Of Eden|161.64526|        0|\n",
      "|The White Stripes|Fell In Love With...|110.47138|        0|\n",
      "|      Chris Cagle|I Breathe In_ I B...| 244.6624|        0|\n",
      "+-----------------+--------------------+---------+---------+\n",
      "only showing top 5 rows\n",
      "\n"
     ]
    }
   ],
   "source": [
    "data_log.select(['artist','song','length', 'userChurn']).show(5)"
   ]
  },
  {
   "cell_type": "code",
   "execution_count": 45,
   "metadata": {},
   "outputs": [
    {
     "data": {
      "text/plain": [
       "<matplotlib.axes._subplots.AxesSubplot at 0x7f993109aba8>"
      ]
     },
     "execution_count": 45,
     "metadata": {},
     "output_type": "execute_result"
    },
    {
     "data": {
      "image/png": "[encoded data removed]",
      "text/plain": [
       "<matplotlib.figure.Figure at 0x7f993109a518>"
      ]
     },
     "metadata": {
      "needs_background": "light"
     },
     "output_type": "display_data"
    }
   ],
   "source": [
    "# select only page==NextSong because songs defined only with this type of page action\n",
    "data_log.where(data_log.page == \"NextSong\").groupby('userChurn').agg(count('song').alias(\"countSongs\"))\\\n",
    "        .toPandas().plot(x = \"userChurn\", y = \"countSongs\", kind = \"bar\")"
   ]
  },
  {
   "cell_type": "code",
   "execution_count": 46,
   "metadata": {},
   "outputs": [
    {
     "data": {
      "text/html": [
       "<div>\n",
       "<style scoped>\n",
       "    .dataframe tbody tr th:only-of-type {\n",
       "        vertical-align: middle;\n",
       "    }\n",
       "\n",
       "    .dataframe tbody tr th {\n",
       "        vertical-align: top;\n",
       "    }\n",
       "\n",
       "    .dataframe thead th {\n",
       "        text-align: right;\n",
       "    }\n",
       "</style>\n",
       "<table border=\"1\" class=\"dataframe\">\n",
       "  <thead>\n",
       "    <tr style=\"text-align: right;\">\n",
       "      <th></th>\n",
       "      <th>userChurn</th>\n",
       "      <th>avg(countSongs)</th>\n",
       "    </tr>\n",
       "  </thead>\n",
       "  <tbody>\n",
       "    <tr>\n",
       "      <th>0</th>\n",
       "      <td>1</td>\n",
       "      <td>699.884615</td>\n",
       "    </tr>\n",
       "    <tr>\n",
       "      <th>1</th>\n",
       "      <td>0</td>\n",
       "      <td>1108.173410</td>\n",
       "    </tr>\n",
       "  </tbody>\n",
       "</table>\n",
       "</div>"
      ],
      "text/plain": [
       "   userChurn  avg(countSongs)\n",
       "0          1       699.884615\n",
       "1          0      1108.173410"
      ]
     },
     "execution_count": 46,
     "metadata": {},
     "output_type": "execute_result"
    }
   ],
   "source": [
    "data_log.where(data_log.page == \"NextSong\").groupby('userChurn','userId').agg(count('song').alias(\"countSongs\"))\\\n",
    "        .groupBy(\"userChurn\").agg(avg(\"countSongs\")).toPandas().head()"
   ]
  },
  {
   "cell_type": "code",
   "execution_count": 47,
   "metadata": {},
   "outputs": [
    {
     "data": {
      "image/png": "[encoded data removed]",
      "text/plain": [
       "<matplotlib.figure.Figure at 0x7f9931067828>"
      ]
     },
     "metadata": {
      "needs_background": "light"
     },
     "output_type": "display_data"
    }
   ],
   "source": [
    "ss = data_log.where(data_log.page == \"NextSong\").groupby('userChurn','userId').agg(count('song').alias(\"countSongs\"))\\\n",
    "        .toPandas()\n",
    "ss.head()\n",
    "# Draw a nested boxplot to show bills by day and time\n",
    "sns.boxplot(x=\"userChurn\", y=\"countSongs\",\n",
    "            data=ss).set_title(\"Listned songs by each user in each class (Churned/NotChurned)\")\n",
    "sns.despine(offset=10, trim=True)\n"
   ]
  },
  {
   "cell_type": "code",
   "execution_count": 48,
   "metadata": {},
   "outputs": [
    {
     "data": {
      "text/html": [
       "<div>\n",
       "<style scoped>\n",
       "    .dataframe tbody tr th:only-of-type {\n",
       "        vertical-align: middle;\n",
       "    }\n",
       "\n",
       "    .dataframe tbody tr th {\n",
       "        vertical-align: top;\n",
       "    }\n",
       "\n",
       "    .dataframe thead th {\n",
       "        text-align: right;\n",
       "    }\n",
       "</style>\n",
       "<table border=\"1\" class=\"dataframe\">\n",
       "  <thead>\n",
       "    <tr style=\"text-align: right;\">\n",
       "      <th></th>\n",
       "      <th>userChurn</th>\n",
       "      <th>avg length</th>\n",
       "    </tr>\n",
       "  </thead>\n",
       "  <tbody>\n",
       "    <tr>\n",
       "      <th>0</th>\n",
       "      <td>1</td>\n",
       "      <td>248.632796</td>\n",
       "    </tr>\n",
       "    <tr>\n",
       "      <th>1</th>\n",
       "      <td>0</td>\n",
       "      <td>249.209135</td>\n",
       "    </tr>\n",
       "  </tbody>\n",
       "</table>\n",
       "</div>"
      ],
      "text/plain": [
       "   userChurn  avg length\n",
       "0          1  248.632796\n",
       "1          0  249.209135"
      ]
     },
     "execution_count": 48,
     "metadata": {},
     "output_type": "execute_result"
    }
   ],
   "source": [
    "data_log.groupby('userChurn').agg(avg('length').alias(\"avg length\")).toPandas()"
   ]
  },
  {
   "cell_type": "code",
   "execution_count": 49,
   "metadata": {},
   "outputs": [
    {
     "name": "stdout",
     "output_type": "stream",
     "text": [
      "+---------+-----------------+\n",
      "|userChurn|avg(count_artist)|\n",
      "+---------+-----------------+\n",
      "|        1|518.6923076923077|\n",
      "|        0|749.7861271676301|\n",
      "+---------+-----------------+\n",
      "\n"
     ]
    }
   ],
   "source": [
    "data_log.groupby('userChurn','userId')\\\n",
    "    .agg(countDistinct('artist').alias(\"count_artist\"))\\\n",
    "    .groupBy(\"userChurn\").agg({\"count_artist\":\"avg\"}).show(5)"
   ]
  },
  {
   "cell_type": "code",
   "execution_count": 50,
   "metadata": {},
   "outputs": [
    {
     "name": "stdout",
     "output_type": "stream",
     "text": [
      "+---------+----------------------+\n",
      "|userChurn|count(DISTINCT artist)|\n",
      "+---------+----------------------+\n",
      "|        1|                  8402|\n",
      "|        0|                 16652|\n",
      "+---------+----------------------+\n",
      "\n"
     ]
    }
   ],
   "source": [
    "data_log.groupBy(\"userChurn\").agg(countDistinct(\"artist\")).show(5)"
   ]
  },
  {
   "cell_type": "code",
   "execution_count": 51,
   "metadata": {},
   "outputs": [
    {
     "name": "stdout",
     "output_type": "stream",
     "text": [
      "+-----+-------------------------+\n",
      "|level|avg(avg(songsPerSession))|\n",
      "+-----+-------------------------+\n",
      "| free|        31.28982093144806|\n",
      "| paid|       102.62525766710827|\n",
      "+-----+-------------------------+\n",
      "\n"
     ]
    }
   ],
   "source": [
    "data_log.where(data_log.page == \"NextSong\")\\\n",
    "    .select([\"userId\", \"level\", \"sessionId\"])\\\n",
    "    .groupBy([\"userId\", \"level\", \"sessionId\"]).count()\\\n",
    "    .withColumnRenamed(\"count\", \"songsPerSession\")\\\n",
    "    .groupBy(\"level\",\"userId\").agg({\"songsPerSession\":\"avg\"})\\\n",
    "    .groupBy(\"level\").agg({\"avg(songsPerSession)\": \"avg\"}).show(5)"
   ]
  },
  {
   "cell_type": "code",
   "execution_count": 52,
   "metadata": {},
   "outputs": [
    {
     "name": "stdout",
     "output_type": "stream",
     "text": [
      "+------+-----+---------+\n",
      "|userId|level|sessionId|\n",
      "+------+-----+---------+\n",
      "|    30| paid|       29|\n",
      "|     9| free|        8|\n",
      "|    30| paid|       29|\n",
      "|     9| free|        8|\n",
      "|    30| paid|       29|\n",
      "+------+-----+---------+\n",
      "only showing top 5 rows\n",
      "\n"
     ]
    }
   ],
   "source": [
    "user_avg_songs_per_session = data_log.where(data_log.page == \"NextSong\") \\\n",
    "    .select([\"userId\", \"level\", \"sessionId\"])\n",
    "\n",
    "user_avg_songs_per_session.show(5)"
   ]
  },
  {
   "cell_type": "markdown",
   "metadata": {},
   "source": [
    "### Actions relation to the target"
   ]
  },
  {
   "cell_type": "code",
   "execution_count": 53,
   "metadata": {},
   "outputs": [
    {
     "name": "stdout",
     "output_type": "stream",
     "text": [
      "+-------------------+---------+-------------+--------+---------+------+------+\n",
      "|               time|sessionId|itemInSession|    page|     auth|method|status|\n",
      "+-------------------+---------+-------------+--------+---------+------+------+\n",
      "|2018-10-01 00:01:57|       29|           50|NextSong|Logged In|   PUT|   200|\n",
      "|2018-10-01 00:03:00|        8|           79|NextSong|Logged In|   PUT|   200|\n",
      "|2018-10-01 00:06:34|       29|           51|NextSong|Logged In|   PUT|   200|\n",
      "|2018-10-01 00:06:56|        8|           80|NextSong|Logged In|   PUT|   200|\n",
      "|2018-10-01 00:11:16|       29|           52|NextSong|Logged In|   PUT|   200|\n",
      "+-------------------+---------+-------------+--------+---------+------+------+\n",
      "only showing top 5 rows\n",
      "\n"
     ]
    }
   ],
   "source": [
    "#  logs information\n",
    "data_log.select(['time','sessionId', 'itemInSession', 'page', 'auth',  'method', 'status']).show(5)"
   ]
  },
  {
   "cell_type": "markdown",
   "metadata": {},
   "source": [
    "Lets check the impact of song length on the churn"
   ]
  },
  {
   "cell_type": "code",
   "execution_count": 54,
   "metadata": {},
   "outputs": [
    {
     "data": {
      "image/png": "[encoded data removed]",
      "text/plain": [
       "<matplotlib.figure.Figure at 0x7f9930fefb38>"
      ]
     },
     "metadata": {
      "needs_background": "light"
     },
     "output_type": "display_data"
    }
   ],
   "source": [
    "user_churn_avgTime = data_log.groupBy(\"userId\",\"userChurn\").agg(avg(\"time\").alias(\"avg_time\")).toPandas()\n",
    "\n",
    "# Draw a nested boxplot to show bills by day and time\n",
    "sns.boxplot(x=\"userChurn\", y=\"avg_time\",\n",
    "            data=user_churn_avgTime)\n",
    "sns.despine(offset=10, trim=True)"
   ]
  },
  {
   "cell_type": "markdown",
   "metadata": {},
   "source": [
    "From the previous plot, we can clearly see that the average song length is higher for user who did not churn. While user who churned are likely pass less time in the service.\n",
    "\n",
    "Now lets check the distribution of items in session for each user related to the target (churn)"
   ]
  },
  {
   "cell_type": "code",
   "execution_count": 55,
   "metadata": {},
   "outputs": [
    {
     "data": {
      "image/png": "[encoded data removed]",
      "text/plain": [
       "<matplotlib.figure.Figure at 0x7f9930fae438>"
      ]
     },
     "metadata": {
      "needs_background": "light"
     },
     "output_type": "display_data"
    }
   ],
   "source": [
    "user_bySession = data_log.groupBy(\"userId\",\"userChurn\").agg(countDistinct(\"itemInSession\").alias(\"count_itemsInSession\")).toPandas()\n",
    "# Draw a nested boxplot to show bills by day and time\n",
    "sns.boxplot(x=\"userChurn\", y=\"count_itemsInSession\",\n",
    "            data=user_bySession)\n",
    "sns.despine(offset=10, trim=True)"
   ]
  },
  {
   "cell_type": "markdown",
   "metadata": {},
   "source": [
    "Not churned users have more items compared to churned users."
   ]
  },
  {
   "cell_type": "code",
   "execution_count": 56,
   "metadata": {},
   "outputs": [
    {
     "data": {
      "image/png": "[encoded data removed]",
      "text/plain": [
       "<matplotlib.figure.Figure at 0x7f9930f6b5c0>"
      ]
     },
     "metadata": {
      "needs_background": "light"
     },
     "output_type": "display_data"
    }
   ],
   "source": [
    "user_bySession = data_log.groupBy(\"page\",\"userChurn\").agg(countDistinct(\"userId\").alias(\"count_itemsInSession\")).toPandas()\n",
    "# Draw a nested boxplot to show bills by day and time\n",
    "sns.boxplot(x=\"userChurn\", y=\"count_itemsInSession\",\n",
    "            data=user_bySession)\n",
    "sns.despine(offset=10, trim=True)"
   ]
  },
  {
   "cell_type": "code",
   "execution_count": 57,
   "metadata": {},
   "outputs": [
    {
     "data": {
      "text/html": [
       "<div>\n",
       "<style scoped>\n",
       "    .dataframe tbody tr th:only-of-type {\n",
       "        vertical-align: middle;\n",
       "    }\n",
       "\n",
       "    .dataframe tbody tr th {\n",
       "        vertical-align: top;\n",
       "    }\n",
       "\n",
       "    .dataframe thead th {\n",
       "        text-align: right;\n",
       "    }\n",
       "</style>\n",
       "<table border=\"1\" class=\"dataframe\">\n",
       "  <thead>\n",
       "    <tr style=\"text-align: right;\">\n",
       "      <th></th>\n",
       "      <th>page</th>\n",
       "      <th>userId</th>\n",
       "      <th>userChurn</th>\n",
       "      <th>count</th>\n",
       "    </tr>\n",
       "  </thead>\n",
       "  <tbody>\n",
       "    <tr>\n",
       "      <th>0</th>\n",
       "      <td>Home</td>\n",
       "      <td>26</td>\n",
       "      <td>0</td>\n",
       "      <td>17</td>\n",
       "    </tr>\n",
       "    <tr>\n",
       "      <th>1</th>\n",
       "      <td>NextSong</td>\n",
       "      <td>26</td>\n",
       "      <td>0</td>\n",
       "      <td>255</td>\n",
       "    </tr>\n",
       "    <tr>\n",
       "      <th>2</th>\n",
       "      <td>Add to Playlist</td>\n",
       "      <td>26</td>\n",
       "      <td>0</td>\n",
       "      <td>8</td>\n",
       "    </tr>\n",
       "    <tr>\n",
       "      <th>3</th>\n",
       "      <td>Roll Advert</td>\n",
       "      <td>26</td>\n",
       "      <td>0</td>\n",
       "      <td>22</td>\n",
       "    </tr>\n",
       "    <tr>\n",
       "      <th>4</th>\n",
       "      <td>Add Friend</td>\n",
       "      <td>26</td>\n",
       "      <td>0</td>\n",
       "      <td>6</td>\n",
       "    </tr>\n",
       "  </tbody>\n",
       "</table>\n",
       "</div>"
      ],
      "text/plain": [
       "              page  userId  userChurn  count\n",
       "0             Home      26          0     17\n",
       "1         NextSong      26          0    255\n",
       "2  Add to Playlist      26          0      8\n",
       "3      Roll Advert      26          0     22\n",
       "4       Add Friend      26          0      6"
      ]
     },
     "execution_count": 57,
     "metadata": {},
     "output_type": "execute_result"
    }
   ],
   "source": [
    "data_log.groupBy(\"page\",\"userId\",\"userChurn\").count().toPandas().head()"
   ]
  },
  {
   "cell_type": "markdown",
   "metadata": {},
   "source": [
    "# Feature Engineering\n",
    "Once you've familiarized yourself with the data, build out the features you find promising to train your model on. To work with the full dataset, you can follow the following steps.\n",
    "- Write a script to extract the necessary features from the smaller subset of data\n",
    "- Ensure that your script is scalable, using the best practices discussed in Lesson 3\n",
    "- Try your script on the full data set, debugging your script if necessary\n",
    "\n",
    "If you are working in the classroom workspace, you can just extract features based on the small subset of data contained here. Be sure to transfer over this work to the larger dataset when you work on your Spark cluster."
   ]
  },
  {
   "cell_type": "markdown",
   "metadata": {},
   "source": [
    "#### Define features\n",
    "\n",
    "* Given features: gender, location, userAgent, level\n",
    "* Toal songs played by each user\n",
    "* Distinct songs by user\n",
    "* Distinct artists by user\n",
    "* Ratio of paid actions (paid actions /(paid+free)actions )\n",
    "* subscription length\n",
    "* number of errors pages\n",
    "* number of help page visit\n",
    "* number of GETs/(number of PUTs + number of GETs)\n",
    "* average itemInSession by user\n",
    "* average song per session\n",
    "\n",
    "\n"
   ]
  },
  {
   "cell_type": "code",
   "execution_count": 58,
   "metadata": {},
   "outputs": [],
   "source": [
    "# first get the latest level\n",
    "def add_last_level(data_log, features):\n",
    "    \"\"\"function to 'last level' columns to the same data_log\"\"\"\n",
    "    \n",
    "    latest_level = data_log.orderBy(\"time\", ascending = False).groupBy(\"userId\").agg(first(\"level\")\\\n",
    "                                                            .alias(\"last_level\")).distinct()\n",
    "    features = features.join(latest_level, on= \"userId\")\n",
    "    return features"
   ]
  },
  {
   "cell_type": "code",
   "execution_count": 59,
   "metadata": {},
   "outputs": [],
   "source": [
    "def add_tot_songs(data_log, features):\n",
    "    \"\"\"function to add total songs 'tot_song' columns to the features df\"\"\"\n",
    "    \n",
    "    tot_songs = data_log.groupBy(\"userId\").agg(count(\"song\").alias(\"total_song\")).distinct()\n",
    "    features = features.join(tot_songs, on= \"userId\")\n",
    "    return features\n",
    "\n"
   ]
  },
  {
   "cell_type": "code",
   "execution_count": 60,
   "metadata": {},
   "outputs": [],
   "source": [
    "def add_distinct_songs(data_log, features):\n",
    "    \"\"\"function to add distinct songs 'distinct_songs' columns to the features df\"\"\"\n",
    "    \n",
    "    dist_songs = data_log.groupBy(\"userId\").agg(countDistinct(\"song\").alias(\"distinct_songs\")).distinct()\n",
    "    features = features.join(dist_songs, on= \"userId\")\n",
    "    return features"
   ]
  },
  {
   "cell_type": "code",
   "execution_count": 61,
   "metadata": {},
   "outputs": [],
   "source": [
    "def add_distinct_artists(data_log, features):\n",
    "    \"\"\"function to add distinct songs 'distinct_artists' columns to the features df\"\"\"\n",
    "    \n",
    "    dist_songs = data_log.groupBy(\"userId\").agg(countDistinct(\"artist\").alias(\"distinct_artists\")).distinct()\n",
    "    features = features.join(dist_songs, on= \"userId\")\n",
    "    return features"
   ]
  },
  {
   "cell_type": "code",
   "execution_count": 62,
   "metadata": {},
   "outputs": [],
   "source": [
    "def add_get_perecentage(data_log, features):\n",
    "    \"\"\"\"\"\"\n",
    "    \n",
    "    prop = data_log.groupBy(\"userId\", \"method\").count().withColumn(\"get_percentage\", col(\"count\")/F.sum(col(\"count\"))\\\n",
    "                                                               .over(Window.partitionBy(\"userId\")))\n",
    "                                                            \n",
    "    get_perce = prop.where(prop.method == \"GET\").drop(\"method\",\"count\")\n",
    "    features = features.join(get_perce, on= \"userId\")\n",
    "    return features"
   ]
  },
  {
   "cell_type": "code",
   "execution_count": 63,
   "metadata": {},
   "outputs": [],
   "source": [
    "def add_paid_perecentage(data_log, features):\n",
    "    \"\"\"\"\"\"\n",
    "    \n",
    "    prop = data_log.groupBy(\"userId\", \"level\").count().withColumn(\"paid_percentage\", col(\"count\")/F.sum(col(\"count\"))\\\n",
    "                                                               .over(Window.partitionBy(\"userId\")))\n",
    "                                                            \n",
    "    get_perce = prop.where(prop.level == \"paid\").drop(\"level\",\"count\")\n",
    "    features = features.join(get_perce, on= \"userId\")\n",
    "    return features"
   ]
  },
  {
   "cell_type": "code",
   "execution_count": 64,
   "metadata": {},
   "outputs": [],
   "source": [
    "def add_psubscription_length(data_log, features):\n",
    "    \"\"\"\"\"\"\n",
    "    \n",
    "    sub_length = data_log.groupBy(\"userId\").agg((F.last(\"ts\")-F.first(\"ts\")).alias('subscr_length'))\n",
    "\n",
    "    features = features.join(sub_length, on= \"userId\")\n",
    "    return features"
   ]
  },
  {
   "cell_type": "code",
   "execution_count": 65,
   "metadata": {},
   "outputs": [],
   "source": [
    "def add_error_page(data_log, features):\n",
    "    \"\"\"\"\"\"\n",
    "    \n",
    "    err_page = data_log.filter(col(\"page\")==\"Error\").groupBy(\"userId\").agg(count(\"page\").alias(\"num_errors_page\"))\n",
    "\n",
    "    features = features.join(err_page, on= \"userId\")\n",
    "    return features"
   ]
  },
  {
   "cell_type": "code",
   "execution_count": 66,
   "metadata": {},
   "outputs": [],
   "source": [
    "def add_help_page(data_log, features):\n",
    "    \"\"\"\"\"\"\n",
    "    \n",
    "    err_page = data_log.filter(col(\"page\")==\"Help\").groupBy(\"userId\").agg(count(\"page\").alias(\"num_help_page\"))\n",
    "\n",
    "    features = features.join(err_page, on= \"userId\")\n",
    "    return features"
   ]
  },
  {
   "cell_type": "code",
   "execution_count": 67,
   "metadata": {},
   "outputs": [],
   "source": [
    "def add_avg_item_session(data_log, features):\n",
    "    \"\"\"\"\"\"\n",
    "    \n",
    "    avg_item = data_log.groupBy(\"userId\", \"sessionId\").agg(count(\"itemInSession\").alias(\"count\"))\\\n",
    "                                        .groupBy(\"userId\").agg(avg(\"count\").alias(\"avg_item_session\"))\n",
    "\n",
    "    features = features.join(avg_item, on= \"userId\")\n",
    "    return features"
   ]
  },
  {
   "cell_type": "code",
   "execution_count": 68,
   "metadata": {},
   "outputs": [],
   "source": [
    "def add_avg_song_session(data_log, features):\n",
    "    \"\"\"\"\"\"\n",
    "    \n",
    "    avg_song = data_log.groupBy(\"userId\", \"sessionId\").agg(count(\"song\").alias(\"count\"))\\\n",
    "                                        .groupBy(\"userId\").agg(avg(\"count\").alias(\"avg_song_session\"))\n",
    "\n",
    "    features = features.join(avg_song, on= \"userId\")\n",
    "    return features"
   ]
  },
  {
   "cell_type": "code",
   "execution_count": 69,
   "metadata": {},
   "outputs": [
    {
     "name": "stdout",
     "output_type": "stream",
     "text": [
      "+------+------+---------+---------+\n",
      "|userId|gender|    state|userChurn|\n",
      "+------+------+---------+---------+\n",
      "|    26|     M|       CA|        0|\n",
      "|    29|     M|       CA|        1|\n",
      "|    65|     M|       NH|        0|\n",
      "|100016|     M|    MO-IL|        0|\n",
      "|100012|     M| IL-IN-WI|        1|\n",
      "+------+------+---------+---------+\n",
      "only showing top 5 rows\n",
      "\n"
     ]
    }
   ],
   "source": [
    "#Create features DataFrame.\n",
    "\n",
    "features = data_log.select(\"userId\",\"gender\", \"state\", \"userChurn\").distinct()\n",
    "features.show(5)"
   ]
  },
  {
   "cell_type": "code",
   "execution_count": 70,
   "metadata": {},
   "outputs": [
    {
     "data": {
      "text/html": [
       "<div>\n",
       "<style scoped>\n",
       "    .dataframe tbody tr th:only-of-type {\n",
       "        vertical-align: middle;\n",
       "    }\n",
       "\n",
       "    .dataframe tbody tr th {\n",
       "        vertical-align: top;\n",
       "    }\n",
       "\n",
       "    .dataframe thead th {\n",
       "        text-align: right;\n",
       "    }\n",
       "</style>\n",
       "<table border=\"1\" class=\"dataframe\">\n",
       "  <thead>\n",
       "    <tr style=\"text-align: right;\">\n",
       "      <th></th>\n",
       "      <th>userId</th>\n",
       "      <th>gender</th>\n",
       "      <th>state</th>\n",
       "      <th>userChurn</th>\n",
       "      <th>last_level</th>\n",
       "      <th>total_song</th>\n",
       "      <th>distinct_songs</th>\n",
       "      <th>distinct_artists</th>\n",
       "      <th>get_percentage</th>\n",
       "      <th>paid_percentage</th>\n",
       "      <th>subscr_length</th>\n",
       "      <th>num_errors_page</th>\n",
       "      <th>num_help_page</th>\n",
       "      <th>avg_item_session</th>\n",
       "      <th>avg_song_session</th>\n",
       "    </tr>\n",
       "  </thead>\n",
       "  <tbody>\n",
       "    <tr>\n",
       "      <th>0</th>\n",
       "      <td>100016</td>\n",
       "      <td>M</td>\n",
       "      <td>MO-IL</td>\n",
       "      <td>0</td>\n",
       "      <td>free</td>\n",
       "      <td>530</td>\n",
       "      <td>493</td>\n",
       "      <td>431</td>\n",
       "      <td>0.076803</td>\n",
       "      <td>0.847962</td>\n",
       "      <td>4927081000</td>\n",
       "      <td>1</td>\n",
       "      <td>3</td>\n",
       "      <td>79.750000</td>\n",
       "      <td>66.250000</td>\n",
       "    </tr>\n",
       "    <tr>\n",
       "      <th>1</th>\n",
       "      <td>54</td>\n",
       "      <td>F</td>\n",
       "      <td>WA</td>\n",
       "      <td>1</td>\n",
       "      <td>paid</td>\n",
       "      <td>2841</td>\n",
       "      <td>2414</td>\n",
       "      <td>1744</td>\n",
       "      <td>0.074775</td>\n",
       "      <td>0.831830</td>\n",
       "      <td>3697678000</td>\n",
       "      <td>1</td>\n",
       "      <td>17</td>\n",
       "      <td>92.891892</td>\n",
       "      <td>76.783784</td>\n",
       "    </tr>\n",
       "    <tr>\n",
       "      <th>2</th>\n",
       "      <td>113</td>\n",
       "      <td>F</td>\n",
       "      <td>NC-SC</td>\n",
       "      <td>0</td>\n",
       "      <td>paid</td>\n",
       "      <td>1585</td>\n",
       "      <td>1429</td>\n",
       "      <td>1111</td>\n",
       "      <td>0.059103</td>\n",
       "      <td>0.948285</td>\n",
       "      <td>5180700000</td>\n",
       "      <td>3</td>\n",
       "      <td>7</td>\n",
       "      <td>78.958333</td>\n",
       "      <td>66.041667</td>\n",
       "    </tr>\n",
       "    <tr>\n",
       "      <th>3</th>\n",
       "      <td>155</td>\n",
       "      <td>F</td>\n",
       "      <td>MA-NH</td>\n",
       "      <td>0</td>\n",
       "      <td>paid</td>\n",
       "      <td>820</td>\n",
       "      <td>759</td>\n",
       "      <td>643</td>\n",
       "      <td>0.070858</td>\n",
       "      <td>0.856287</td>\n",
       "      <td>2231525000</td>\n",
       "      <td>3</td>\n",
       "      <td>9</td>\n",
       "      <td>167.000000</td>\n",
       "      <td>136.666667</td>\n",
       "    </tr>\n",
       "    <tr>\n",
       "      <th>4</th>\n",
       "      <td>200008</td>\n",
       "      <td>F</td>\n",
       "      <td>NC-SC</td>\n",
       "      <td>0</td>\n",
       "      <td>paid</td>\n",
       "      <td>1669</td>\n",
       "      <td>1505</td>\n",
       "      <td>1159</td>\n",
       "      <td>0.062624</td>\n",
       "      <td>0.988072</td>\n",
       "      <td>4940593000</td>\n",
       "      <td>3</td>\n",
       "      <td>4</td>\n",
       "      <td>134.133333</td>\n",
       "      <td>111.266667</td>\n",
       "    </tr>\n",
       "  </tbody>\n",
       "</table>\n",
       "</div>"
      ],
      "text/plain": [
       "   userId gender   state  userChurn last_level  total_song  distinct_songs  \\\n",
       "0  100016      M   MO-IL          0       free         530             493   \n",
       "1      54      F      WA          1       paid        2841            2414   \n",
       "2     113      F   NC-SC          0       paid        1585            1429   \n",
       "3     155      F   MA-NH          0       paid         820             759   \n",
       "4  200008      F   NC-SC          0       paid        1669            1505   \n",
       "\n",
       "   distinct_artists  get_percentage  paid_percentage  subscr_length  \\\n",
       "0               431        0.076803         0.847962     4927081000   \n",
       "1              1744        0.074775         0.831830     3697678000   \n",
       "2              1111        0.059103         0.948285     5180700000   \n",
       "3               643        0.070858         0.856287     2231525000   \n",
       "4              1159        0.062624         0.988072     4940593000   \n",
       "\n",
       "   num_errors_page  num_help_page  avg_item_session  avg_song_session  \n",
       "0                1              3         79.750000         66.250000  \n",
       "1                1             17         92.891892         76.783784  \n",
       "2                3              7         78.958333         66.041667  \n",
       "3                3              9        167.000000        136.666667  \n",
       "4                3              4        134.133333        111.266667  "
      ]
     },
     "execution_count": 70,
     "metadata": {},
     "output_type": "execute_result"
    }
   ],
   "source": [
    "# add features\n",
    "ff = add_last_level(data_log, features)\n",
    "ff = add_tot_songs(data_log, ff)\n",
    "ff = add_distinct_songs(data_log, ff)\n",
    "ff= add_distinct_artists(data_log, ff)\n",
    "ff = add_get_perecentage(data_log, ff)\n",
    "ff = add_paid_perecentage(data_log, ff)\n",
    "ff = add_psubscription_length(data_log, ff)\n",
    "ff = add_error_page(data_log, ff)\n",
    "ff = add_help_page(data_log, ff)\n",
    "ff = add_avg_item_session(data_log, ff)\n",
    "ff = add_avg_song_session(data_log, ff)\n",
    "ff.toPandas().head(5)"
   ]
  },
  {
   "cell_type": "code",
   "execution_count": 72,
   "metadata": {},
   "outputs": [],
   "source": [
    "ff.toPandas().to_csv(\"processed.csv\")"
   ]
  },
  {
   "cell_type": "markdown",
   "metadata": {},
   "source": [
    "# Modeling\n",
    "Split the full dataset into train, test, and validation sets. Test out several of the machine learning methods you learned. Evaluate the accuracy of the various models, tuning parameters as necessary. Determine your winning model based on test accuracy and report results on the validation set. Since the churned users are a fairly small subset, I suggest using F1 score as the metric to optimize."
   ]
  },
  {
   "cell_type": "code",
   "execution_count": 73,
   "metadata": {},
   "outputs": [
    {
     "data": {
      "text/html": [
       "<div>\n",
       "<style scoped>\n",
       "    .dataframe tbody tr th:only-of-type {\n",
       "        vertical-align: middle;\n",
       "    }\n",
       "\n",
       "    .dataframe tbody tr th {\n",
       "        vertical-align: top;\n",
       "    }\n",
       "\n",
       "    .dataframe thead th {\n",
       "        text-align: right;\n",
       "    }\n",
       "</style>\n",
       "<table border=\"1\" class=\"dataframe\">\n",
       "  <thead>\n",
       "    <tr style=\"text-align: right;\">\n",
       "      <th></th>\n",
       "      <th>avg_item_session</th>\n",
       "      <th>avg_song_session</th>\n",
       "      <th>distinct_artists</th>\n",
       "      <th>distinct_songs</th>\n",
       "      <th>gender</th>\n",
       "      <th>get_percentage</th>\n",
       "      <th>last_level</th>\n",
       "      <th>num_errors_page</th>\n",
       "      <th>num_help_page</th>\n",
       "      <th>paid_percentage</th>\n",
       "      <th>state</th>\n",
       "      <th>subscr_length</th>\n",
       "      <th>total_song</th>\n",
       "      <th>label</th>\n",
       "      <th>userId</th>\n",
       "    </tr>\n",
       "  </thead>\n",
       "  <tbody>\n",
       "    <tr>\n",
       "      <th>0</th>\n",
       "      <td>115.526316</td>\n",
       "      <td>95.105263</td>\n",
       "      <td>1216</td>\n",
       "      <td>1606</td>\n",
       "      <td>F</td>\n",
       "      <td>0.068793</td>\n",
       "      <td>paid</td>\n",
       "      <td>3</td>\n",
       "      <td>19</td>\n",
       "      <td>0.849658</td>\n",
       "      <td>FL</td>\n",
       "      <td>4969842000</td>\n",
       "      <td>1807</td>\n",
       "      <td>0</td>\n",
       "      <td>20</td>\n",
       "    </tr>\n",
       "    <tr>\n",
       "      <th>1</th>\n",
       "      <td>98.611111</td>\n",
       "      <td>82.777778</td>\n",
       "      <td>1062</td>\n",
       "      <td>1335</td>\n",
       "      <td>M</td>\n",
       "      <td>0.052394</td>\n",
       "      <td>paid</td>\n",
       "      <td>2</td>\n",
       "      <td>9</td>\n",
       "      <td>0.941972</td>\n",
       "      <td>MS</td>\n",
       "      <td>3795281000</td>\n",
       "      <td>1490</td>\n",
       "      <td>1</td>\n",
       "      <td>70</td>\n",
       "    </tr>\n",
       "    <tr>\n",
       "      <th>2</th>\n",
       "      <td>51.571429</td>\n",
       "      <td>40.000000</td>\n",
       "      <td>248</td>\n",
       "      <td>266</td>\n",
       "      <td>M</td>\n",
       "      <td>0.077562</td>\n",
       "      <td>paid</td>\n",
       "      <td>1</td>\n",
       "      <td>4</td>\n",
       "      <td>0.966759</td>\n",
       "      <td>CA</td>\n",
       "      <td>3490662000</td>\n",
       "      <td>280</td>\n",
       "      <td>0</td>\n",
       "      <td>300014</td>\n",
       "    </tr>\n",
       "    <tr>\n",
       "      <th>3</th>\n",
       "      <td>55.468750</td>\n",
       "      <td>44.281250</td>\n",
       "      <td>1018</td>\n",
       "      <td>1272</td>\n",
       "      <td>M</td>\n",
       "      <td>0.103662</td>\n",
       "      <td>paid</td>\n",
       "      <td>1</td>\n",
       "      <td>5</td>\n",
       "      <td>0.380282</td>\n",
       "      <td>CA</td>\n",
       "      <td>5270203000</td>\n",
       "      <td>1417</td>\n",
       "      <td>0</td>\n",
       "      <td>30</td>\n",
       "    </tr>\n",
       "    <tr>\n",
       "      <th>4</th>\n",
       "      <td>90.574468</td>\n",
       "      <td>76.021277</td>\n",
       "      <td>2073</td>\n",
       "      <td>2961</td>\n",
       "      <td>F</td>\n",
       "      <td>0.066949</td>\n",
       "      <td>paid</td>\n",
       "      <td>7</td>\n",
       "      <td>20</td>\n",
       "      <td>0.969697</td>\n",
       "      <td>VA</td>\n",
       "      <td>5191625000</td>\n",
       "      <td>3573</td>\n",
       "      <td>0</td>\n",
       "      <td>42</td>\n",
       "    </tr>\n",
       "  </tbody>\n",
       "</table>\n",
       "</div>"
      ],
      "text/plain": [
       "   avg_item_session  avg_song_session  distinct_artists  distinct_songs  \\\n",
       "0        115.526316         95.105263              1216            1606   \n",
       "1         98.611111         82.777778              1062            1335   \n",
       "2         51.571429         40.000000               248             266   \n",
       "3         55.468750         44.281250              1018            1272   \n",
       "4         90.574468         76.021277              2073            2961   \n",
       "\n",
       "  gender  get_percentage last_level  num_errors_page  num_help_page  \\\n",
       "0      F        0.068793       paid                3             19   \n",
       "1      M        0.052394       paid                2              9   \n",
       "2      M        0.077562       paid                1              4   \n",
       "3      M        0.103662       paid                1              5   \n",
       "4      F        0.066949       paid                7             20   \n",
       "\n",
       "   paid_percentage state  subscr_length  total_song  label  userId  \n",
       "0         0.849658    FL     4969842000        1807      0      20  \n",
       "1         0.941972    MS     3795281000        1490      1      70  \n",
       "2         0.966759    CA     3490662000         280      0  300014  \n",
       "3         0.380282    CA     5270203000        1417      0      30  \n",
       "4         0.969697    VA     5191625000        3573      0      42  "
      ]
     },
     "execution_count": 73,
     "metadata": {},
     "output_type": "execute_result"
    }
   ],
   "source": [
    "# load data\n",
    "# load data\n",
    "\n",
    "path = \"processed_data.json\"\n",
    "df = spark.read.json(path)\n",
    "# rename userChurn to label\n",
    "\n",
    "df = df.withColumnRenamed(\"userChurn\", \"label\")\n",
    "df.toPandas().head()"
   ]
  },
  {
   "cell_type": "code",
   "execution_count": 74,
   "metadata": {},
   "outputs": [],
   "source": [
    "# post process data\n",
    "\n",
    "from pyspark.ml.feature import OneHotEncoderEstimator, StringIndexer, VectorAssembler\n",
    "from pyspark.ml import Pipeline\n",
    "from pyspark.ml.tuning import CrossValidator\n",
    "from pyspark.ml.evaluation import RegressionEvaluator\n",
    "from pyspark.sql.types import IntegerType, ArrayType, FloatType, DoubleType, Row, DateType\n",
    "from pyspark.ml.linalg import DenseVector, SparseVector\n",
    "from pyspark.ml.classification import LogisticRegression, RandomForestClassifier, DecisionTreeClassifier, GBTClassifier, MultilayerPerceptronClassifier\n",
    "from pyspark.ml.evaluation import  MulticlassClassificationEvaluator, BinaryClassificationEvaluator\n",
    "from pyspark.ml.feature import StandardScaler, StringIndexer, VectorAssembler\n",
    "from pyspark.ml.tuning import CrossValidator, ParamGridBuilder"
   ]
  },
  {
   "cell_type": "code",
   "execution_count": 75,
   "metadata": {},
   "outputs": [],
   "source": [
    "# pipeline\n",
    "num_cols = []\n",
    "\n",
    "for field in df.schema.fields :\n",
    "    if field.dataType!=StringType():\n",
    "        num_cols.append(field.name)\n",
    "num_cols = [x for x in num_cols if x not in ['label', 'userId']]\n",
    "\n",
    "def get_data(df, num_cols):\n",
    "    idx_gender = StringIndexer(inputCol='gender', outputCol='gender_idx')\n",
    "    idx_last_level = StringIndexer(inputCol='last_level', outputCol='last_level_idx')\n",
    "\n",
    "    num_cols = num_cols+[\"gender_idx\", \"last_level_idx\"]\n",
    "    # normalize data \n",
    "\n",
    "\n",
    "    assembler = VectorAssembler(inputCols=num_cols, outputCol='num_cols')\n",
    "    scaler = StandardScaler(inputCol='num_cols', outputCol ='features', withStd=True, withMean=True)\n",
    "    pipeline = Pipeline(stages=[idx_gender, idx_last_level,assembler, scaler ])\n",
    "    df_pipeline = pipeline.fit(df).transform(df)\n",
    "    data = df_pipeline.select(df_pipeline.features, df_pipeline.label)\n",
    "    train, test = data.randomSplit([0.8, 0.2], seed = 36)\n",
    "    return train, test\n",
    "train, test = get_data(df, num_cols)"
   ]
  },
  {
   "cell_type": "code",
   "execution_count": 76,
   "metadata": {},
   "outputs": [],
   "source": [
    "def evaluate(model, test):\n",
    "    # Fit and calculate predictions\n",
    "    results = model.transform(test)\n",
    "    f1_score_evaluator = MulticlassClassificationEvaluator(metricName='f1')\n",
    "    f1_score = f1_score_evaluator.evaluate(results.select(col('label'), col('prediction')))\n",
    "    print('The F1 score on the test set is {:.2%}'.format(f1_score)) \n",
    "\n",
    "    auc_evaluator = BinaryClassificationEvaluator()\n",
    "    metric_value = auc_evaluator.evaluate(results, {auc_evaluator.metricName: \"areaUnderROC\"})\n",
    "    print('The areaUnderROC on the test set is {:.2%}'.format(metric_value))\n",
    "    return\n",
    "\n",
    "def featImportance(bestModel):\n",
    "    FeatImportance = dict()\n",
    "    for i in range(len(bestModel.featureImportances)):\n",
    "        FeatImportance[df.columns[i]] = bestModel.featureImportances[i]\n",
    "    return FeatImportance\n"
   ]
  },
  {
   "cell_type": "markdown",
   "metadata": {},
   "source": [
    "### Logistic regression"
   ]
  },
  {
   "cell_type": "code",
   "execution_count": 77,
   "metadata": {},
   "outputs": [
    {
     "name": "stdout",
     "output_type": "stream",
     "text": [
      "The F1 score on the test set is 80.65%\n",
      "The areaUnderROC on the test set is 92.00%\n"
     ]
    }
   ],
   "source": [
    "# model \n",
    "lr = LogisticRegression()\n",
    "# train and evaluate\n",
    "lr = lr.fit(train)\n",
    "evaluate(lr, test)"
   ]
  },
  {
   "cell_type": "markdown",
   "metadata": {},
   "source": [
    "### Logistic regression with hyperparameters tuning"
   ]
  },
  {
   "cell_type": "code",
   "execution_count": null,
   "metadata": {},
   "outputs": [
    {
     "name": "stdout",
     "output_type": "stream",
     "text": [
      "The F1 score on the test set is 92.00%\n"
     ]
    }
   ],
   "source": [
    "# Logistic regression with cross validation\n",
    "lr = LogisticRegression()\n",
    "\n",
    "lr_paramGrid = ParamGridBuilder() \\\n",
    "    .addGrid(lr.maxIter, [10, 40, 100]) \\\n",
    "    .addGrid(lr.elasticNetParam, [0.0, 0.05, 0.1] ) \\\n",
    "    .build()\n",
    "\n",
    "lr_crossval = CrossValidator(estimator=lr,\n",
    "                          estimatorParamMaps=lr_paramGrid,\n",
    "                          evaluator=BinaryClassificationEvaluator(metricName = 'areaUnderROC'),\n",
    "                          numFolds=5)\n",
    "lr_crossval = lr_crossval.fit(train)\n",
    "# train and evaluate\n",
    "evaluate(lr_crossval,test)"
   ]
  },
  {
   "cell_type": "code",
   "execution_count": null,
   "metadata": {},
   "outputs": [],
   "source": [
    "bestModel = lr_crossval.bestModel\n",
    "print('Best parameters : max iteration:{}, elasticNetParam:{}'.\\\n",
    "      format(bestModel._java_obj.getMaxIter(), bestModel._java_obj.getElasticNetParam()))"
   ]
  },
  {
   "cell_type": "markdown",
   "metadata": {},
   "source": [
    "### Random forest"
   ]
  },
  {
   "cell_type": "code",
   "execution_count": null,
   "metadata": {},
   "outputs": [],
   "source": [
    "rf = RandomForestClassifier()\n",
    "# train and evaluate\n",
    "rf = rf.fit(train)\n",
    "evaluate(rf, test)"
   ]
  },
  {
   "cell_type": "markdown",
   "metadata": {},
   "source": [
    "### Random forest paramters tuning"
   ]
  },
  {
   "cell_type": "code",
   "execution_count": 81,
   "metadata": {},
   "outputs": [
    {
     "name": "stdout",
     "output_type": "stream",
     "text": [
      "The F1 score on the test set is 79.39%\n",
      "The areaUnderROC on the test set is 79.00%\n"
     ]
    }
   ],
   "source": [
    "# RF with cross validation\n",
    "rf = RandomForestClassifier()\n",
    "\n",
    "rf_paramGrid = ParamGridBuilder() \\\n",
    "    .addGrid(rf.maxDepth, [0, 2, 5]) \\\n",
    "    .addGrid(rf.numTrees, [50, 200, 500] ) \\\n",
    "    .build()\n",
    "\n",
    "rf_crossval = CrossValidator(estimator=rf,\n",
    "                          estimatorParamMaps=rf_paramGrid,\n",
    "                          evaluator=BinaryClassificationEvaluator(metricName = 'areaUnderROC'),\n",
    "                          numFolds=5)\n",
    "rf_crossval = rf_crossval.fit(train)\n",
    "# train and evaluate\n",
    "evaluate(rf_crossval, test)"
   ]
  },
  {
   "cell_type": "code",
   "execution_count": 82,
   "metadata": {},
   "outputs": [
    {
     "name": "stdout",
     "output_type": "stream",
     "text": [
      "Best parameters : max depth:2, numTrees:500\n"
     ]
    }
   ],
   "source": [
    "bestModel = rf_crossval.bestModel\n",
    "print('Best parameters : max depth:{}, numTrees:{}'.\\\n",
    "      format(bestModel._java_obj.getMaxDepth(), bestModel._java_obj.getNumTrees()))"
   ]
  },
  {
   "cell_type": "code",
   "execution_count": 83,
   "metadata": {},
   "outputs": [
    {
     "data": {
      "text/plain": [
       "{'avg_item_session': 0.15083789090102359,\n",
       " 'avg_song_session': 0.11381543257281057,\n",
       " 'distinct_artists': 0.053570945390445712,\n",
       " 'distinct_songs': 0.040232442422228287,\n",
       " 'gender': 0.068281379595664535,\n",
       " 'get_percentage': 0.010658981298839588,\n",
       " 'last_level': 0.021215245203514213,\n",
       " 'num_errors_page': 0.073998737781113225,\n",
       " 'num_help_page': 0.40046498548671183,\n",
       " 'paid_percentage': 0.059376856617258382,\n",
       " 'state': 0.0053475705971226042,\n",
       " 'subscr_length': 0.0021995321332673678}"
      ]
     },
     "execution_count": 83,
     "metadata": {},
     "output_type": "execute_result"
    }
   ],
   "source": [
    "rfFeatImportance = featImportance(bestModel)\n",
    "rfFeatImportance"
   ]
  },
  {
   "cell_type": "markdown",
   "metadata": {},
   "source": [
    "### Decision trees"
   ]
  },
  {
   "cell_type": "code",
   "execution_count": 86,
   "metadata": {},
   "outputs": [
    {
     "name": "stdout",
     "output_type": "stream",
     "text": [
      "The F1 score on the test set is 88.39%\n",
      "The areaUnderROC on the test set is 84.00%\n"
     ]
    }
   ],
   "source": [
    "dt = DecisionTreeClassifier()\n",
    "# train and evaluate\n",
    "dt =dt.fit(train)\n",
    "evaluate(dt, test)"
   ]
  },
  {
   "cell_type": "markdown",
   "metadata": {},
   "source": [
    "### Decision trees parameters tuning"
   ]
  },
  {
   "cell_type": "code",
   "execution_count": 87,
   "metadata": {},
   "outputs": [
    {
     "name": "stdout",
     "output_type": "stream",
     "text": [
      "The F1 score on the test set is 88.90%\n",
      "The areaUnderROC on the test set is 94.50%\n"
     ]
    }
   ],
   "source": [
    "# Dt with cross validation\n",
    "dt = DecisionTreeClassifier()\n",
    "\n",
    "dt_paramGrid = ParamGridBuilder() \\\n",
    "    .addGrid(dt.maxDepth, [2, 5, 10, 20, 30]) \\\n",
    "    .addGrid(dt.maxBins, [10, 20, 40, 80, 100] ) \\\n",
    "    .build()\n",
    "\n",
    "dt_crossval = CrossValidator(estimator=dt,\n",
    "                          estimatorParamMaps=dt_paramGrid,\n",
    "                          evaluator=BinaryClassificationEvaluator(metricName = 'areaUnderROC'),\n",
    "                          numFolds=5)\n",
    "dt_crossval =dt_crossval.fit(train)\n",
    "# train and evaluate\n",
    "evaluate(dt_crossval, test)"
   ]
  },
  {
   "cell_type": "code",
   "execution_count": 88,
   "metadata": {},
   "outputs": [
    {
     "name": "stdout",
     "output_type": "stream",
     "text": [
      "Best parameters : max depth:5, max bins:20\n"
     ]
    }
   ],
   "source": [
    "bestModel = dt_crossval.bestModel\n",
    "print('Best parameters : max depth:{}, max bins:{}'.\\\n",
    "      format(bestModel._java_obj.getMaxDepth(), bestModel._java_obj.getMaxBins()))"
   ]
  },
  {
   "cell_type": "code",
   "execution_count": 89,
   "metadata": {},
   "outputs": [
    {
     "data": {
      "text/plain": [
       "{'avg_item_session': 0.12576832151300227,\n",
       " 'avg_song_session': 0.08085106382978724,\n",
       " 'distinct_artists': 0.13937961172003727,\n",
       " 'distinct_songs': 0.0,\n",
       " 'gender': 0.0,\n",
       " 'get_percentage': 0.041922773837667453,\n",
       " 'last_level': 0.0,\n",
       " 'num_errors_page': 0.10741083359029709,\n",
       " 'num_help_page': 0.50466739550920869,\n",
       " 'paid_percentage': 0.0,\n",
       " 'state': 0.0,\n",
       " 'subscr_length': 0.0}"
      ]
     },
     "execution_count": 89,
     "metadata": {},
     "output_type": "execute_result"
    }
   ],
   "source": [
    "# prints feature importances\n",
    "import pandas as pd\n",
    "\n",
    "\n",
    "dtFeatImportance = featImportance(bestModel)\n",
    "dtFeatImportance"
   ]
  },
  {
   "cell_type": "markdown",
   "metadata": {},
   "source": [
    "# Final Steps\n",
    "Clean up your code, adding comments and renaming variables to make the code easier to read and maintain. Refer to the Spark Project Overview page and Data Scientist Capstone Project Rubric to make sure you are including all components of the capstone project and meet all expectations. Remember, this includes thorough documentation in a README file in a Github repository, as well as a web app or blog post."
   ]
  },
  {
   "cell_type": "code",
   "execution_count": null,
   "metadata": {},
   "outputs": [],
   "source": []
  }
 ],
 "metadata": {
  "kernelspec": {
   "display_name": "Python 3",
   "language": "python",
   "name": "python3"
  }
 },
 "nbformat": 4,
 "nbformat_minor": 2
}
